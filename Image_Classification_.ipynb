{
  "nbformat": 4,
  "nbformat_minor": 0,
  "metadata": {
    "colab": {
      "provenance": []
    },
    "kernelspec": {
      "name": "python3",
      "display_name": "Python 3"
    },
    "language_info": {
      "name": "python"
    }
  },
  "cells": [
    {
      "cell_type": "markdown",
      "source": [
        "**Importing necessary libraries**"
      ],
      "metadata": {
        "id": "r_cFhOh1SVMi"
      }
    },
    {
      "cell_type": "code",
      "execution_count": 2,
      "metadata": {
        "id": "U_hPW98bOLCm"
      },
      "outputs": [],
      "source": [
        "import tensorflow as tf\n",
        "from tensorflow.keras import datasets, layers, models\n",
        "import matplotlib.pyplot as plt\n",
        "import numpy as np"
      ]
    },
    {
      "cell_type": "markdown",
      "source": [
        "**Load the Dataset**"
      ],
      "metadata": {
        "id": "nOGhHEHYSavF"
      }
    },
    {
      "cell_type": "code",
      "source": [
        "(X_train, y_train), (X_test,y_test) = datasets.cifar10.load_data()\n",
        "X_train.shape"
      ],
      "metadata": {
        "colab": {
          "base_uri": "https://localhost:8080/"
        },
        "id": "vqb1KnpVPkHF",
        "outputId": "8e849fc3-c506-4e39-9708-998eb6b553d9"
      },
      "execution_count": 3,
      "outputs": [
        {
          "output_type": "stream",
          "name": "stdout",
          "text": [
            "Downloading data from https://www.cs.toronto.edu/~kriz/cifar-10-python.tar.gz\n",
            "170498071/170498071 [==============================] - 6s 0us/step\n"
          ]
        },
        {
          "output_type": "execute_result",
          "data": {
            "text/plain": [
              "(50000, 32, 32, 3)"
            ]
          },
          "metadata": {},
          "execution_count": 3
        }
      ]
    },
    {
      "cell_type": "code",
      "source": [
        "X_test.shape"
      ],
      "metadata": {
        "colab": {
          "base_uri": "https://localhost:8080/"
        },
        "id": "DanaZgjtPwbl",
        "outputId": "45fac64c-7812-467d-f18d-43fd255fee30"
      },
      "execution_count": 4,
      "outputs": [
        {
          "output_type": "execute_result",
          "data": {
            "text/plain": [
              "(10000, 32, 32, 3)"
            ]
          },
          "metadata": {},
          "execution_count": 4
        }
      ]
    },
    {
      "cell_type": "markdown",
      "source": [
        "**There are 50000 training images and 10000 test images**"
      ],
      "metadata": {
        "id": "-ZZ4VTqlSknd"
      }
    },
    {
      "cell_type": "code",
      "source": [
        "y_train.shape"
      ],
      "metadata": {
        "colab": {
          "base_uri": "https://localhost:8080/"
        },
        "id": "mdZJA_0xQAlB",
        "outputId": "6a0cb183-0109-46ad-8ecf-fd3c05b6c55e"
      },
      "execution_count": 5,
      "outputs": [
        {
          "output_type": "execute_result",
          "data": {
            "text/plain": [
              "(50000, 1)"
            ]
          },
          "metadata": {},
          "execution_count": 5
        }
      ]
    },
    {
      "cell_type": "code",
      "source": [
        "y_train[:5]"
      ],
      "metadata": {
        "colab": {
          "base_uri": "https://localhost:8080/"
        },
        "id": "ukWEn0MlQGTK",
        "outputId": "00bffbe1-9e0c-434d-d111-9e45aa9bdb20"
      },
      "execution_count": 6,
      "outputs": [
        {
          "output_type": "execute_result",
          "data": {
            "text/plain": [
              "array([[6],\n",
              "       [9],\n",
              "       [9],\n",
              "       [4],\n",
              "       [1]], dtype=uint8)"
            ]
          },
          "metadata": {},
          "execution_count": 6
        }
      ]
    },
    {
      "cell_type": "code",
      "source": [
        "y_train = y_train.reshape(-1,)\n",
        "y_train[:5]"
      ],
      "metadata": {
        "colab": {
          "base_uri": "https://localhost:8080/"
        },
        "id": "GO0dK3xXQIKC",
        "outputId": "04b77057-dc68-44fd-ee3d-f9a89e6147a1"
      },
      "execution_count": 7,
      "outputs": [
        {
          "output_type": "execute_result",
          "data": {
            "text/plain": [
              "array([6, 9, 9, 4, 1], dtype=uint8)"
            ]
          },
          "metadata": {},
          "execution_count": 7
        }
      ]
    },
    {
      "cell_type": "code",
      "source": [
        "y_test = y_test.reshape(-1,)"
      ],
      "metadata": {
        "id": "Okx2hWaNQKjf"
      },
      "execution_count": 8,
      "outputs": []
    },
    {
      "cell_type": "code",
      "source": [
        "classes = [\"airplane\",\"automobile\",\"bird\",\"cat\",\"deer\",\"dog\",\"frog\",\"horse\",\"ship\",\"truck\"]"
      ],
      "metadata": {
        "id": "gCRZ9cw-QMaE"
      },
      "execution_count": 9,
      "outputs": []
    },
    {
      "cell_type": "markdown",
      "source": [
        "**Plotting Images**"
      ],
      "metadata": {
        "id": "_IMgtgbPSsuQ"
      }
    },
    {
      "cell_type": "code",
      "source": [
        "def plot_sample(X, y, index):\n",
        "    plt.figure(figsize = (15,2))\n",
        "    plt.imshow(X[index])\n",
        "    plt.xlabel(classes[y[index]])"
      ],
      "metadata": {
        "id": "vpX1QAyeQOeW"
      },
      "execution_count": 10,
      "outputs": []
    },
    {
      "cell_type": "code",
      "source": [
        "plot_sample(X_train, y_train, 0)"
      ],
      "metadata": {
        "colab": {
          "base_uri": "https://localhost:8080/",
          "height": 173
        },
        "id": "nqpWnrygQQYf",
        "outputId": "f0cdba56-5f66-4105-c556-2f640bb7d071"
      },
      "execution_count": 11,
      "outputs": [
        {
          "output_type": "display_data",
          "data": {
            "text/plain": [
              "<Figure size 1080x144 with 1 Axes>"
            ],
            "image/png": "[encoded data removed]"
          },
          "metadata": {
            "needs_background": "light"
          }
        }
      ]
    },
    {
      "cell_type": "code",
      "source": [
        "plot_sample(X_train, y_train, 1)"
      ],
      "metadata": {
        "colab": {
          "base_uri": "https://localhost:8080/",
          "height": 173
        },
        "id": "9pJEHGUeQR7_",
        "outputId": "ea14122c-b8f9-43c6-d0e5-8a2690d681a9"
      },
      "execution_count": 12,
      "outputs": [
        {
          "output_type": "display_data",
          "data": {
            "text/plain": [
              "<Figure size 1080x144 with 1 Axes>"
            ],
            "image/png": "[encoded data removed]"
          },
          "metadata": {
            "needs_background": "light"
          }
        }
      ]
    },
    {
      "cell_type": "markdown",
      "source": [
        "**Normalize the images to a number from 0 to 1. Image has 3 channels (R,G,B) and each value in the channel can range from 0 to 255. Hence to normalize in 0-->1 range, we need to divide it by 255**"
      ],
      "metadata": {
        "id": "W71BXhy6S-pT"
      }
    },
    {
      "cell_type": "markdown",
      "source": [
        "**Normalise the training data**"
      ],
      "metadata": {
        "id": "dgHOSwnYTGjA"
      }
    },
    {
      "cell_type": "code",
      "source": [
        "X_train = X_train / 255.0\n",
        "X_test = X_test / 255.0"
      ],
      "metadata": {
        "id": "24Jp5ylzQT97"
      },
      "execution_count": 13,
      "outputs": []
    },
    {
      "cell_type": "markdown",
      "source": [
        "**Artificial Neural Network for Image Classification**"
      ],
      "metadata": {
        "id": "PkQ2NhrQTLGq"
      }
    },
    {
      "cell_type": "code",
      "source": [
        "ann = models.Sequential([\n",
        "        layers.Flatten(input_shape=(32,32,3)),\n",
        "        layers.Dense(3000, activation='relu'),\n",
        "        layers.Dense(1000, activation='relu'),\n",
        "        layers.Dense(10, activation='softmax')    \n",
        "    ])\n",
        "\n",
        "ann.compile(optimizer='SGD',\n",
        "              loss='sparse_categorical_crossentropy',\n",
        "              metrics=['accuracy'])\n",
        "\n",
        "ann.fit(X_train, y_train, epochs=5)"
      ],
      "metadata": {
        "colab": {
          "base_uri": "https://localhost:8080/"
        },
        "id": "BjiaGlH5QV9B",
        "outputId": "38dd12a6-e3c6-47dd-b1e5-21879eee413f"
      },
      "execution_count": 14,
      "outputs": [
        {
          "output_type": "stream",
          "name": "stdout",
          "text": [
            "Epoch 1/5\n",
            "1563/1563 [==============================] - 72s 46ms/step - loss: 1.8121 - accuracy: 0.3541\n",
            "Epoch 2/5\n",
            "1563/1563 [==============================] - 67s 43ms/step - loss: 1.6215 - accuracy: 0.4274\n",
            "Epoch 3/5\n",
            "1563/1563 [==============================] - 69s 44ms/step - loss: 1.5381 - accuracy: 0.4574\n",
            "Epoch 4/5\n",
            "1563/1563 [==============================] - 64s 41ms/step - loss: 1.4800 - accuracy: 0.4786\n",
            "Epoch 5/5\n",
            "1563/1563 [==============================] - 64s 41ms/step - loss: 1.4296 - accuracy: 0.4964\n"
          ]
        },
        {
          "output_type": "execute_result",
          "data": {
            "text/plain": [
              "<keras.callbacks.History at 0x7f998d51e160>"
            ]
          },
          "metadata": {},
          "execution_count": 14
        }
      ]
    },
    {
      "cell_type": "markdown",
      "source": [
        "**At the end of 5 epochs, accuracy is at around 49%**"
      ],
      "metadata": {
        "id": "yM7uKxxxTZbM"
      }
    },
    {
      "cell_type": "code",
      "source": [
        "from sklearn.metrics import confusion_matrix , classification_report\n",
        "import numpy as np\n",
        "y_pred = ann.predict(X_test)\n",
        "y_pred_classes = [np.argmax(element) for element in y_pred]\n",
        "\n",
        "print(\"Classification Report: \\n\", classification_report(y_test, y_pred_classes))"
      ],
      "metadata": {
        "colab": {
          "base_uri": "https://localhost:8080/"
        },
        "id": "fRFx2kW7QXrb",
        "outputId": "d8a58e56-f12f-4f74-a38f-c9453e08ba9a"
      },
      "execution_count": 15,
      "outputs": [
        {
          "output_type": "stream",
          "name": "stdout",
          "text": [
            "313/313 [==============================] - 6s 17ms/step\n",
            "Classification Report: \n",
            "               precision    recall  f1-score   support\n",
            "\n",
            "           0       0.50      0.56      0.53      1000\n",
            "           1       0.36      0.85      0.50      1000\n",
            "           2       0.54      0.12      0.20      1000\n",
            "           3       0.44      0.12      0.18      1000\n",
            "           4       0.46      0.39      0.42      1000\n",
            "           5       0.35      0.45      0.39      1000\n",
            "           6       0.60      0.45      0.51      1000\n",
            "           7       0.45      0.62      0.52      1000\n",
            "           8       0.50      0.68      0.58      1000\n",
            "           9       0.58      0.23      0.33      1000\n",
            "\n",
            "    accuracy                           0.45     10000\n",
            "   macro avg       0.48      0.45      0.42     10000\n",
            "weighted avg       0.48      0.45      0.42     10000\n",
            "\n"
          ]
        }
      ]
    },
    {
      "cell_type": "markdown",
      "source": [
        "**Build a Convolutional Neural Network to train the images**"
      ],
      "metadata": {
        "id": "BF8abEjETh7q"
      }
    },
    {
      "cell_type": "code",
      "source": [
        "cnn = models.Sequential([\n",
        "    layers.Conv2D(filters=32, kernel_size=(3, 3), activation='relu', input_shape=(32, 32, 3)),\n",
        "    layers.MaxPooling2D((2, 2)),\n",
        "    \n",
        "    layers.Conv2D(filters=64, kernel_size=(3, 3), activation='relu'),\n",
        "    layers.MaxPooling2D((2, 2)),\n",
        "    \n",
        "    layers.Flatten(),\n",
        "    layers.Dense(64, activation='relu'),\n",
        "    layers.Dense(10, activation='softmax')\n",
        "])"
      ],
      "metadata": {
        "id": "OyFN0uXiQagV"
      },
      "execution_count": 16,
      "outputs": []
    },
    {
      "cell_type": "code",
      "source": [
        "cnn.compile(optimizer='adam',\n",
        "              loss='sparse_categorical_crossentropy',\n",
        "              metrics=['accuracy'])"
      ],
      "metadata": {
        "id": "sn6tT75lQctv"
      },
      "execution_count": 17,
      "outputs": []
    },
    {
      "cell_type": "code",
      "source": [
        "cnn.fit(X_train, y_train, epochs=10)"
      ],
      "metadata": {
        "colab": {
          "base_uri": "https://localhost:8080/"
        },
        "id": "NyMpmHqPQeiX",
        "outputId": "154ecdb1-352b-430c-d3d5-4ec128e785eb"
      },
      "execution_count": 18,
      "outputs": [
        {
          "output_type": "stream",
          "name": "stdout",
          "text": [
            "Epoch 1/10\n",
            "1563/1563 [==============================] - 48s 31ms/step - loss: 1.4782 - accuracy: 0.4674\n",
            "Epoch 2/10\n",
            "1563/1563 [==============================] - 48s 31ms/step - loss: 1.1199 - accuracy: 0.6071\n",
            "Epoch 3/10\n",
            "1563/1563 [==============================] - 48s 31ms/step - loss: 0.9918 - accuracy: 0.6550\n",
            "Epoch 4/10\n",
            "1563/1563 [==============================] - 54s 35ms/step - loss: 0.9126 - accuracy: 0.6848\n",
            "Epoch 5/10\n",
            "1563/1563 [==============================] - 51s 33ms/step - loss: 0.8524 - accuracy: 0.7057\n",
            "Epoch 6/10\n",
            "1563/1563 [==============================] - 56s 36ms/step - loss: 0.8039 - accuracy: 0.7210\n",
            "Epoch 7/10\n",
            "1563/1563 [==============================] - 52s 33ms/step - loss: 0.7601 - accuracy: 0.7363\n",
            "Epoch 8/10\n",
            "1563/1563 [==============================] - 58s 37ms/step - loss: 0.7195 - accuracy: 0.7506\n",
            "Epoch 9/10\n",
            "1563/1563 [==============================] - 50s 32ms/step - loss: 0.6866 - accuracy: 0.7630\n",
            "Epoch 10/10\n",
            "1563/1563 [==============================] - 57s 36ms/step - loss: 0.6521 - accuracy: 0.7718\n"
          ]
        },
        {
          "output_type": "execute_result",
          "data": {
            "text/plain": [
              "<keras.callbacks.History at 0x7f998872ab80>"
            ]
          },
          "metadata": {},
          "execution_count": 18
        }
      ]
    },
    {
      "cell_type": "markdown",
      "source": [
        "**With CNN, at the end 5 epochs, accuracy was at around 70% which is a significant improvement over ANN. CNN's are best for image classification and gives superb accuracy. Also computation is much less compared to simple ANN as maxpooling reduces the image dimensions while still preserving the features**"
      ],
      "metadata": {
        "id": "aY7howrKTunE"
      }
    },
    {
      "cell_type": "code",
      "source": [
        "cnn.evaluate(X_test,y_test)"
      ],
      "metadata": {
        "colab": {
          "base_uri": "https://localhost:8080/"
        },
        "id": "M0Ph-tXMQgKk",
        "outputId": "083d23b9-9c04-4ec7-d398-45e2c8e40c9a"
      },
      "execution_count": 19,
      "outputs": [
        {
          "output_type": "stream",
          "name": "stdout",
          "text": [
            "313/313 [==============================] - 3s 10ms/step - loss: 0.9228 - accuracy: 0.6962\n"
          ]
        },
        {
          "output_type": "execute_result",
          "data": {
            "text/plain": [
              "[0.9227727651596069, 0.6962000131607056]"
            ]
          },
          "metadata": {},
          "execution_count": 19
        }
      ]
    },
    {
      "cell_type": "code",
      "source": [
        "y_pred = cnn.predict(X_test)\n",
        "y_pred[:5]"
      ],
      "metadata": {
        "colab": {
          "base_uri": "https://localhost:8080/"
        },
        "id": "2aaa0uA4QiAI",
        "outputId": "dc1a8ccd-2aa4-4094-a3f6-4e783221e730"
      },
      "execution_count": 20,
      "outputs": [
        {
          "output_type": "stream",
          "name": "stdout",
          "text": [
            "313/313 [==============================] - 3s 10ms/step\n"
          ]
        },
        {
          "output_type": "execute_result",
          "data": {
            "text/plain": [
              "array([[9.06761677e-04, 8.81205960e-06, 6.35786273e-04, 2.53823042e-01,\n",
              "        1.25454064e-03, 2.85443757e-03, 6.45747362e-03, 4.32802226e-05,\n",
              "        7.33682096e-01, 3.33833246e-04],\n",
              "       [2.71104113e-03, 1.24624364e-01, 1.26465820e-04, 7.41536610e-07,\n",
              "        2.88569936e-06, 5.49463186e-09, 1.73550276e-07, 9.10559876e-08,\n",
              "        8.72437418e-01, 9.67956294e-05],\n",
              "       [2.13233894e-03, 2.32856393e-01, 1.60179727e-04, 9.12156174e-05,\n",
              "        6.91754940e-06, 9.26172015e-06, 3.59951628e-06, 4.41571183e-06,\n",
              "        7.64492214e-01, 2.43509494e-04],\n",
              "       [8.20279241e-01, 5.07196039e-03, 9.55711007e-02, 2.35850387e-03,\n",
              "        5.59670366e-02, 3.63147032e-04, 5.69488434e-03, 2.33220722e-04,\n",
              "        1.28700035e-02, 1.59090431e-03],\n",
              "       [1.15578996e-05, 1.02881895e-04, 5.89586720e-02, 7.50766248e-02,\n",
              "        3.77513319e-01, 1.76204415e-03, 4.85315561e-01, 1.19058495e-06,\n",
              "        1.25640084e-03, 1.67574808e-06]], dtype=float32)"
            ]
          },
          "metadata": {},
          "execution_count": 20
        }
      ]
    },
    {
      "cell_type": "code",
      "source": [
        "y_classes = [np.argmax(element) for element in y_pred]\n",
        "y_classes[:5]"
      ],
      "metadata": {
        "colab": {
          "base_uri": "https://localhost:8080/"
        },
        "id": "beVnMyUaQj4c",
        "outputId": "f2330b88-b62f-4084-d62b-012c96a594de"
      },
      "execution_count": 21,
      "outputs": [
        {
          "output_type": "execute_result",
          "data": {
            "text/plain": [
              "[8, 8, 8, 0, 6]"
            ]
          },
          "metadata": {},
          "execution_count": 21
        }
      ]
    },
    {
      "cell_type": "code",
      "source": [
        "y_test[:5]"
      ],
      "metadata": {
        "colab": {
          "base_uri": "https://localhost:8080/"
        },
        "id": "lJyzlzIxQmQG",
        "outputId": "c6770f3a-de08-4c3b-93d4-06c0a8aa752d"
      },
      "execution_count": 22,
      "outputs": [
        {
          "output_type": "execute_result",
          "data": {
            "text/plain": [
              "array([3, 8, 8, 0, 6], dtype=uint8)"
            ]
          },
          "metadata": {},
          "execution_count": 22
        }
      ]
    },
    {
      "cell_type": "code",
      "source": [
        "plot_sample(X_test, y_test,3)"
      ],
      "metadata": {
        "colab": {
          "base_uri": "https://localhost:8080/",
          "height": 173
        },
        "id": "Ze2xU-biQoOy",
        "outputId": "c33d7000-261d-4f18-ec93-3569ad33c3c9"
      },
      "execution_count": 23,
      "outputs": [
        {
          "output_type": "display_data",
          "data": {
            "text/plain": [
              "<Figure size 1080x144 with 1 Axes>"
            ],
            "image/png": "[encoded data removed]"
          },
          "metadata": {
            "needs_background": "light"
          }
        }
      ]
    },
    {
      "cell_type": "code",
      "source": [
        "classes[y_classes[3]]"
      ],
      "metadata": {
        "colab": {
          "base_uri": "https://localhost:8080/",
          "height": 35
        },
        "id": "rdc56tPVQqI4",
        "outputId": "79b7dab8-4fd2-43ec-c253-599c042ac577"
      },
      "execution_count": 24,
      "outputs": [
        {
          "output_type": "execute_result",
          "data": {
            "text/plain": [
              "'airplane'"
            ],
            "application/vnd.google.colaboratory.intrinsic+json": {
              "type": "string"
            }
          },
          "metadata": {},
          "execution_count": 24
        }
      ]
    },
    {
      "cell_type": "code",
      "source": [
        "plot_sample(X_test, y_test,4)"
      ],
      "metadata": {
        "colab": {
          "base_uri": "https://localhost:8080/",
          "height": 173
        },
        "id": "nGmNvYIOT9ai",
        "outputId": "2aa14aca-f8e2-47d1-acca-25dcb904e9f7"
      },
      "execution_count": 27,
      "outputs": [
        {
          "output_type": "display_data",
          "data": {
            "text/plain": [
              "<Figure size 1080x144 with 1 Axes>"
            ],
            "image/png": "[encoded data removed]"
          },
          "metadata": {
            "needs_background": "light"
          }
        }
      ]
    },
    {
      "cell_type": "code",
      "source": [
        "classes[y_classes[4]]"
      ],
      "metadata": {
        "colab": {
          "base_uri": "https://localhost:8080/",
          "height": 35
        },
        "id": "mrVhTYYjQsIc",
        "outputId": "ea88b169-f1f0-49ad-f3da-3e2cbbda3057"
      },
      "execution_count": 26,
      "outputs": [
        {
          "output_type": "execute_result",
          "data": {
            "text/plain": [
              "'frog'"
            ],
            "application/vnd.google.colaboratory.intrinsic+json": {
              "type": "string"
            }
          },
          "metadata": {},
          "execution_count": 26
        }
      ]
    }
  ]
}