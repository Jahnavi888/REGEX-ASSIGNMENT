{
  "nbformat": 4,
  "nbformat_minor": 0,
  "metadata": {
    "colab": {
      "name": "REGEX ASSIGNMENT 4.ipynb",
      "provenance": [],
      "collapsed_sections": []
    },
    "kernelspec": {
      "name": "python3",
      "display_name": "Python 3"
    },
    "language_info": {
      "name": "python"
    }
  },
  "cells": [
    {
      "cell_type": "code",
      "execution_count": 14,
      "metadata": {
        "id": "6z3ct1IothXF",
        "colab": {
          "base_uri": "https://localhost:8080/"
        },
        "outputId": "1705810e-f182-47ec-9fd0-e316c6147264"
      },
      "outputs": [
        {
          "output_type": "stream",
          "name": "stdout",
          "text": [
            "Enter a number : 8\n",
            "This is an even number.\n"
          ]
        }
      ],
      "source": [
        "#1. Take any value from the user, print “odd” if the value entered is odd and print “even” otherwise.\n",
        "\n",
        "n = int(input(\"Enter a number : \"))\n",
        "if(n % 2)==0:\n",
        "    print(\"This is an even number.\")\n",
        "else:\n",
        "    print(\"This is an odd number.\")\n",
        "\t"
      ]
    },
    {
      "cell_type": "code",
      "source": [
        "#2. Take input from the user and check if the number is a complex number. a complex number is the sum of a real number and an imaginary number.\n",
        "\n"
      ],
      "metadata": {
        "id": "ulT922SXtqNs"
      },
      "execution_count": 15,
      "outputs": []
    },
    {
      "cell_type": "code",
      "source": [
        "#3. Create a program to enter marks from the user out of 100 and display grades as per the following 90-100 (A), 75 to 90 (B), 60 to 75 (C), 45 to 60 (D), 33 to 45 (E) and remaining all are F.\n",
        "\n",
        "marks=int(input(\"Enter your marks : \"))\n",
        "if(marks>=90 and marks<=100):\n",
        "  print(\"Your grade is A\")\n",
        "elif(marks>=75 and marks<=90):\n",
        "  print(\"Your grade is B\")\n",
        "elif(marks>=60 and marks<=75):\n",
        "  print(\"Your grade is B\")\n",
        "elif(marks>=45 and marks<=60):\n",
        "  print(\"Your grade is B\")\n",
        "elif(marks>=33 and marks<=45):\n",
        "  print(\"Your grade is B\")\n",
        "else:\n",
        "  print(\"Fail\")"
      ],
      "metadata": {
        "id": "pO-dpUGMtq1d",
        "colab": {
          "base_uri": "https://localhost:8080/"
        },
        "outputId": "b3565db8-0391-44e7-df2d-ea2772174470"
      },
      "execution_count": 16,
      "outputs": [
        {
          "output_type": "stream",
          "name": "stdout",
          "text": [
            "Enter your marks : 96\n",
            "Your grade is A\n"
          ]
        }
      ]
    },
    {
      "cell_type": "code",
      "source": [
        "#4. Say three integers have been given. Determine how many of them are equal to each other. Create a program to print 3 (if all 3 are same), 2 (if 2 are same) and 0 (if all numbers are different)\n",
        "a=int(input())\n",
        "b=int(input())\n",
        "c=int(input())\n",
        "if(a==b and a==c and b==c):\n",
        "  print(\"3\")\n",
        "elif(a==b and a!=c or a!=b and a==c):\n",
        "  print(\"2\")\n",
        "\n",
        "else:\n",
        "  print(\"0\")\n"
      ],
      "metadata": {
        "id": "vWNUfEYGtrb3",
        "colab": {
          "base_uri": "https://localhost:8080/"
        },
        "outputId": "093c260a-7260-4253-fa87-da785fdebbda"
      },
      "execution_count": 17,
      "outputs": [
        {
          "output_type": "stream",
          "name": "stdout",
          "text": [
            "44\n",
            "56\n",
            "40\n",
            "0\n"
          ]
        }
      ]
    },
    {
      "cell_type": "code",
      "source": [
        "#5. Question in Assignment 3"
      ],
      "metadata": {
        "id": "Nm8SYze-tsAs"
      },
      "execution_count": 18,
      "outputs": []
    },
    {
      "cell_type": "code",
      "source": [
        "#6. Question in Assignment 3"
      ],
      "metadata": {
        "id": "1BEl-_qOtsnf"
      },
      "execution_count": 19,
      "outputs": []
    },
    {
      "cell_type": "code",
      "source": [
        "#7. Write a python script to: a. separate 2,3,6 characters from your ID. b. To print character 2 to 5 in your name and surname. c. Print all the characters of your name and surname\n",
        "\n",
        "a=input(\"Enter your ID : \")\n",
        "b=input(\"Enter your name : \")\n",
        "c=input(\"Enter your surname : \")\n",
        "print(b[2:6])\n",
        "print(c[2:6])\n",
        "print(\"NAME\")\n",
        "i = 0\n",
        "while(i < len(b)):\n",
        "    print(\"The Character at %d Index Position = %c\" %(i, b[i]))\n",
        "    i = i + 1\n",
        "print(\"SURNAME\")\n",
        "i=0\n",
        "while(i < len(c)):\n",
        "    print(\"The Character at %d Index Position = %c\" %(i, c[i]))\n",
        "    i = i + 1"
      ],
      "metadata": {
        "id": "EnPpN3fMttNZ",
        "colab": {
          "base_uri": "https://localhost:8080/"
        },
        "outputId": "76f2db53-6b83-409e-c465-4e9dee39d12f"
      },
      "execution_count": 20,
      "outputs": [
        {
          "output_type": "stream",
          "name": "stdout",
          "text": [
            "Enter your ID : jahnavi.18bcs@cmr.edu.in\n",
            "Enter your name : Jahnavi\n",
            "Enter your surname : Thummala\n",
            "hnav\n",
            "umma\n",
            "NAME\n",
            "The Character at 0 Index Position = J\n",
            "The Character at 1 Index Position = a\n",
            "The Character at 2 Index Position = h\n",
            "The Character at 3 Index Position = n\n",
            "The Character at 4 Index Position = a\n",
            "The Character at 5 Index Position = v\n",
            "The Character at 6 Index Position = i\n",
            "SURNAME\n",
            "The Character at 0 Index Position = T\n",
            "The Character at 1 Index Position = h\n",
            "The Character at 2 Index Position = u\n",
            "The Character at 3 Index Position = m\n",
            "The Character at 4 Index Position = m\n",
            "The Character at 5 Index Position = a\n",
            "The Character at 6 Index Position = l\n",
            "The Character at 7 Index Position = a\n"
          ]
        }
      ]
    },
    {
      "cell_type": "code",
      "source": [
        "#8. Question in Assignment 3"
      ],
      "metadata": {
        "id": "h4Y7gO2FtuFo"
      },
      "execution_count": 21,
      "outputs": []
    },
    {
      "cell_type": "code",
      "source": [
        "#9. Question in Assignment 3"
      ],
      "metadata": {
        "id": "-xF6N3gutuqI"
      },
      "execution_count": 22,
      "outputs": []
    },
    {
      "cell_type": "code",
      "source": [
        "#10. Question in Assignment 3"
      ],
      "metadata": {
        "id": "Ih_rqYZXtvVb"
      },
      "execution_count": 23,
      "outputs": []
    },
    {
      "cell_type": "code",
      "source": [
        "#11. Create an html generator using: a. A base class with a couple methods b. Subclass overriding class attributes c. Subclass overriding a method"
      ],
      "metadata": {
        "id": "9MkqUaMkuG6j"
      },
      "execution_count": 24,
      "outputs": []
    },
    {
      "cell_type": "code",
      "source": [
        "#12. Create an html generator using: a. A base class with a couple methods b. Subclass overriding class attributes c. Subclass overriding a method d. Subclass overriding the ___init__"
      ],
      "metadata": {
        "id": "AINufPnNtv_x"
      },
      "execution_count": 25,
      "outputs": []
    },
    {
      "cell_type": "code",
      "source": [
        ""
      ],
      "metadata": {
        "id": "UNI_RYfitxHW"
      },
      "execution_count": null,
      "outputs": []
    }
  ]
}