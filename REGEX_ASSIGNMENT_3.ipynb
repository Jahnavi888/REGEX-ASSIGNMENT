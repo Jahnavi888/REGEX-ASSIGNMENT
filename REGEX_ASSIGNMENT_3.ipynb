{
  "nbformat": 4,
  "nbformat_minor": 0,
  "metadata": {
    "colab": {
      "name": "REGEX ASSIGNMENT 3.ipynb",
      "provenance": [],
      "collapsed_sections": []
    },
    "kernelspec": {
      "name": "python3",
      "display_name": "Python 3"
    },
    "language_info": {
      "name": "python"
    }
  },
  "cells": [
    {
      "cell_type": "code",
      "execution_count": 1,
      "metadata": {
        "id": "GE89Y6LFf4GY"
      },
      "outputs": [],
      "source": [
        "#1. Write your short introduction in a text file. Your introduction consists of Name, Id, contact number, Address, Stream, Joining date, Qualification, Hobbies, Strength and weakness. Pass this file to python. Your task is to calculate total characters, numbers, words and lines used in this introduction file.\n",
        "\n",
        "def counter(fname):\n",
        "\n",
        "\t# variable to store total word count\n",
        "\tnum_words = 0\n",
        "\t\n",
        "\t# variable to store total line count\n",
        "\tnum_lines = 0\n",
        "\t\n",
        "\t# variable to store total character count\n",
        "\tnum_charc = 0\n",
        "\t\n",
        "\t# variable to store total space count\n",
        "\tnum_spaces = 0\n",
        "\t\n",
        "\t# opening file using with() method\n",
        "\t# so that file gets closed\n",
        "\t# after completion of work\n",
        "\twith open(fname, 'r') as f:\n",
        "\t\n",
        "\t\tfor line in f:\n",
        "\t\t\t\n",
        "\t\t\n",
        "\t\t\tnum_lines += 1\n",
        "\t\t\t\n",
        "\t\t\t\n",
        "\t\t\tword = 'Y'\n",
        "\t\t\t\n",
        "\t\t\n",
        "\t\t\tfor letter in line:\n",
        "\t\t\t\t\n",
        "\t\t\t\n",
        "\t\t\t\tif (letter != ' ' and word == 'Y'):\n",
        "\t\t\t\t\t\n",
        "\t\t\t\t\t\n",
        "\t\t\t\t\tnum_words += 1\n",
        "\t\t\t\t\t\n",
        "\t\t\t\t\t\n",
        "\t\t\t\t\tword = 'N'\n",
        "\t\t\t\t\t\n",
        "\t\t\t\t\n",
        "\t\t\t\telif (letter == ' '):\n",
        "\t\t\t\t\t\n",
        "\t\t\t\t\n",
        "\t\t\t\t\tnum_spaces += 1\n",
        "\t\t\t\t\t\n",
        "\t\t\t\t\n",
        "\t\t\t\t\tword = 'Y'\n",
        "\t\t\t\t\t\n",
        "\t\t\t\t\n",
        "\t\t\t\tfor i in letter:\n",
        "\t\t\t\t\t\n",
        "\t\t\t\t\n",
        "\t\t\t\t\tif(i !=\" \" and i !=\"\\n\"):\n",
        "\t\t\t\t\t\t\n",
        "\t\t\t\t\t\t\n",
        "\t\t\t\t\t\tnum_charc += 1\n",
        "\t\t\t\t\t\t\n",
        "\t# printing total word count\n",
        "\tprint(\"Number of words in text file: \", num_words)\n",
        "\t\n",
        "\t# printing total line count\n",
        "\tprint(\"Number of lines in text file: \", num_lines)\n",
        "\t\n",
        "\t# printing total character count\n",
        "\tprint('Number of characters in text file: ', num_charc)\n",
        "\t\n",
        "\t# printing total space count\n",
        "\tprint('Number of spaces in text file: ', num_spaces)\n",
        "if __name__ == '__main__':\n",
        "\tfname = r'C:\\Users\\srinu\\OneDrive\\Desktop\\info.txt'\n",
        "\t'''try:\n",
        "\t\tcounter(fname)\n",
        "\texcept:\n",
        "\t\tprint('File not found')'''\n",
        "\n",
        "\n"
      ]
    },
    {
      "cell_type": "code",
      "source": [
        "#2. Create a file in read only mode. Open this file using python and try to write your contact number in that file. As this file is write protected so an exception should occur. Handle this exception using python script with user-defined exception classes\n",
        "\n",
        "\n"
      ],
      "metadata": {
        "colab": {
          "base_uri": "https://localhost:8080/",
          "height": 200
        },
        "id": "v38vkxOUhMJd",
        "outputId": "427221cb-2773-4d84-9a1b-4f634dcf6c39"
      },
      "execution_count": null,
      "outputs": [
        {
          "output_type": "error",
          "ename": "FileNotFoundError",
          "evalue": "ignored",
          "traceback": [
            "\u001b[0;31m---------------------------------------------------------------------------\u001b[0m",
            "\u001b[0;31mFileNotFoundError\u001b[0m                         Traceback (most recent call last)",
            "\u001b[0;32m<ipython-input-33-0793d707e0c8>\u001b[0m in \u001b[0;36m<module>\u001b[0;34m()\u001b[0m\n\u001b[1;32m      2\u001b[0m \u001b[0;34m\u001b[0m\u001b[0m\n\u001b[1;32m      3\u001b[0m \u001b[0;34m\u001b[0m\u001b[0m\n\u001b[0;32m----> 4\u001b[0;31m \u001b[0mmy_file\u001b[0m \u001b[0;34m=\u001b[0m \u001b[0mopen\u001b[0m\u001b[0;34m(\u001b[0m\u001b[0;34mr\"C:\\Users\\srinu\\OneDrive\\Desktop\\number.txt\"\u001b[0m\u001b[0;34m,\u001b[0m\u001b[0;34m\"r\"\u001b[0m\u001b[0;34m)\u001b[0m\u001b[0;34m\u001b[0m\u001b[0;34m\u001b[0m\u001b[0m\n\u001b[0m",
            "\u001b[0;31mFileNotFoundError\u001b[0m: [Errno 2] No such file or directory: 'C:\\\\Users\\\\srinu\\\\OneDrive\\\\Desktop\\\\number.txt'"
          ]
        }
      ]
    },
    {
      "cell_type": "code",
      "source": [
        ""
      ],
      "metadata": {
        "id": "69gnVUnWreQf"
      },
      "execution_count": null,
      "outputs": []
    },
    {
      "cell_type": "code",
      "source": [
        "#3. A truck runs a distance of N kms per day. Write a program to calculate how many days will be taken to cover M kms.\n",
        "   \n",
        "a = int(input(\"Enter the number of kilometers per day : \"))    \n",
        "b = int(input(\"Enter the number of kilometers travelled : \"))    \n",
        "c = (a*b)/100  \n",
        "print(\"The number of days used to cover kilometers travelled are :\",c)  \n",
        "      \n"
      ],
      "metadata": {
        "id": "WX1zbQoihQxa"
      },
      "execution_count": null,
      "outputs": []
    },
    {
      "cell_type": "code",
      "source": [
        "#4.  Create a function that performs division of numbers. Since divide by zero gives an infinite so if a number which is denominator and 0 must give an exception while performing division operation. - Handle the exception of the above class & also any other exception that are generated\n",
        "\n",
        "try:    \n",
        "    a = int(input(\"Enter a : \"))    \n",
        "    b = int(input(\"Enter b : \"))    \n",
        "    c = a/b  \n",
        "    print(\"a/b = %d\"%c)    \n",
        "except Exception:    \n",
        "    print(\"Can't divide by zero\")    \n",
        "    print(Exception)  \n",
        "else:    \n",
        "    print(\"Done\")     "
      ],
      "metadata": {
        "id": "UhYR1jn0hVzp"
      },
      "execution_count": null,
      "outputs": []
    },
    {
      "cell_type": "code",
      "source": [
        ""
      ],
      "metadata": {
        "id": "ATW_d4iaiLtg"
      },
      "execution_count": null,
      "outputs": []
    }
  ]
}