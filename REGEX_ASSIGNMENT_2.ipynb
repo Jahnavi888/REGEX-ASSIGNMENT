{
  "nbformat": 4,
  "nbformat_minor": 0,
  "metadata": {
    "colab": {
      "name": "REGEX ASSIGNMENT 2.ipynb",
      "provenance": [],
      "collapsed_sections": []
    },
    "kernelspec": {
      "name": "python3",
      "display_name": "Python 3"
    },
    "language_info": {
      "name": "python"
    }
  },
  "cells": [
    {
      "cell_type": "code",
      "execution_count": 76,
      "metadata": {
        "id": "6f3ZG7JhK7co",
        "colab": {
          "base_uri": "https://localhost:8080/"
        },
        "outputId": "00e1fe92-e69b-4a60-ebce-eb8cbc468aac"
      },
      "outputs": [
        {
          "output_type": "stream",
          "name": "stdout",
          "text": [
            "Enter a string : Honey isa good girl\n",
            "The first word of the string is :  Honey\n"
          ]
        }
      ],
      "source": [
        "#1. Write a lambda expression to extract first word of a string.\n",
        "\n",
        "s = input(\"Enter a string : \")\n",
        "a = (lambda x:[i for i in x if i[0].isalpha()][0])(s.split())\n",
        "print(\"The first word of the string is : \",a)"
      ]
    },
    {
      "cell_type": "code",
      "source": [
        "#2. Write a function to extract first word of string (with many words separated by space).\n",
        "\n",
        "s = input(\"Enter a string : \")\n",
        "extract = s.split()[0]\n",
        "print(\"The first word of the string is : \",extract)"
      ],
      "metadata": {
        "id": "cPJptKNVK8kz",
        "colab": {
          "base_uri": "https://localhost:8080/"
        },
        "outputId": "b6f439c3-2f38-49aa-a7c1-38e2fec939f8"
      },
      "execution_count": 77,
      "outputs": [
        {
          "output_type": "stream",
          "name": "stdout",
          "text": [
            "Enter a string : Honey is a good girl\n",
            "The first word of the string is :  Honey\n"
          ]
        }
      ]
    },
    {
      "cell_type": "code",
      "source": [
        "#3. Extract the first word from every string from a list of strings by using map function.\n",
        "\n",
        "s1 = input(\"Enter a string : \")\n",
        "s2 = input(\"Enter a string : \")\n",
        "a = map((lambda x:[i for i in x if i[0].isalpha()][0])(s.split()),[s1,s2])\n",
        "print(\"The first word of the string is : \",a)"
      ],
      "metadata": {
        "id": "6EHiXTK4K9P8",
        "colab": {
          "base_uri": "https://localhost:8080/"
        },
        "outputId": "2f6292e2-defb-464a-88d4-2fdc53ff64e3"
      },
      "execution_count": 78,
      "outputs": [
        {
          "output_type": "stream",
          "name": "stdout",
          "text": [
            "Enter a string : Honey is a good girl\n",
            "Enter a string : dolly is a good girl\n",
            "The first word of the string is :  <map object at 0x7f268e3777d0>\n"
          ]
        }
      ]
    },
    {
      "cell_type": "code",
      "source": [
        "#4. Write a function to return a list of prime factors of a given number.\n",
        "\n",
        "n = int(input(\"Enter the number for calculating the prime factors : \"))\n",
        "for i in range(2,n + 1):\n",
        "    if n % i == 0:\n",
        "        count = 1\n",
        "        for j in range(2,(i//2 + 1)):\n",
        "            if(i % j == 0):\n",
        "                count = 0\n",
        "                break\n",
        "        if(count == 1):\n",
        "            print(i)\n"
      ],
      "metadata": {
        "id": "eVq2ApBiK-FJ",
        "colab": {
          "base_uri": "https://localhost:8080/"
        },
        "outputId": "aa9eb7cf-b3cd-4238-95c1-1160bfde2c09"
      },
      "execution_count": 79,
      "outputs": [
        {
          "output_type": "stream",
          "name": "stdout",
          "text": [
            "Enter the number for calculating the prime factors : 356\n",
            "2\n",
            "89\n"
          ]
        }
      ]
    },
    {
      "cell_type": "code",
      "source": [
        "#5. Write a function that finds 2nd largest among 4 numbers (Repetitions are allowed, without sorting).\n",
        "\n",
        "def second_largest(list):\n",
        "    list.sort()\n",
        "    return list[-2]\n",
        "\n",
        "l=[]\n",
        "n=int(input(\"Enter size of list : \"))\n",
        "for i in range(0,n):\n",
        "    e=int(input(\"Enter elements of list : \"))\n",
        "    l.append(e)\n",
        "print(\"Second largest in the list is : \",second_largest(l))\n"
      ],
      "metadata": {
        "id": "hTquqba-K-ll",
        "colab": {
          "base_uri": "https://localhost:8080/"
        },
        "outputId": "e4b6ea35-ae4a-44bf-e48b-29b207bfe85c"
      },
      "execution_count": 81,
      "outputs": [
        {
          "output_type": "stream",
          "name": "stdout",
          "text": [
            "Enter size of list : 4\n",
            "Enter elements of list : 44\n",
            "Enter elements of list : 6\n",
            "Enter elements of list : 78\n",
            "Enter elements of list : 37\n",
            "Second largest in the list is :  44\n"
          ]
        }
      ]
    },
    {
      "cell_type": "code",
      "source": [
        "5#6. Take an input from the user as string and find out all the non duplicate words from the input\n",
        "\n",
        "s1 = input(\"Enter a string : \")\n",
        "s2 = s1.lower().split(' ')\n",
        "count = {}\n",
        "for word in s2:\n",
        "    if word not in count:\n",
        "        count[word] = 1\n",
        "    else:\n",
        "        count[word] += 1\n",
        "result = []\n",
        "for k in count:\n",
        "    if count[k] > 1:\n",
        "        result.append(k)\n",
        "print(result)"
      ],
      "metadata": {
        "id": "GDUT39DdK_Zj",
        "colab": {
          "base_uri": "https://localhost:8080/"
        },
        "outputId": "2a0a3397-0b87-4590-d805-23e38fc42452"
      },
      "execution_count": 83,
      "outputs": [
        {
          "output_type": "stream",
          "name": "stdout",
          "text": [
            "Enter a string : Honey is a good girl Honey welcomes you\n",
            "['honey']\n"
          ]
        }
      ]
    },
    {
      "cell_type": "code",
      "source": [
        "\n",
        "#7. Take a input from the user and verify the data is a palindrome or not\n",
        "\n",
        "def isPalindrome(s):\n",
        "    for i in range(int(len(s)/2)):\n",
        "        if s[i] != s[len(s)-i-1]:\n",
        "            return \"The given string is not a palindrome\"\n",
        "    return \"The given string is a palindrome\"\n",
        "\n",
        "s1=input(\"Enter the first string : \")\n",
        "print(s1,\":\",isPalindrome(s1))\n",
        "s2=input(\"Enter the second sring : \")\n",
        "print(s2,\":\",isPalindrome(s2))"
      ],
      "metadata": {
        "id": "pdBio__iLAQp",
        "outputId": "859432ea-4e2c-4714-8d0a-f84a4a287f8d",
        "colab": {
          "base_uri": "https://localhost:8080/"
        }
      },
      "execution_count": 84,
      "outputs": [
        {
          "output_type": "stream",
          "name": "stdout",
          "text": [
            "Enter the first string : hello\n",
            "hello : The given string is not a palindrome\n",
            "Enter the second sring : malayalam\n",
            "malayalam : The given string is a palindrome\n"
          ]
        }
      ]
    },
    {
      "cell_type": "code",
      "source": [
        "#8. Use exception handling to find out the LCM & HCF of two numbers\n",
        "\n",
        "print(\"Enter Two Numbers : \", end=\"\")\n",
        "no = int(input())\n",
        "nt = int(input())\n",
        "\n",
        "a = no\n",
        "b = nt\n",
        "while b!=0:\n",
        "    temp = b\n",
        "    b = a%b\n",
        "    a = temp\n",
        "\n",
        "hcf = a\n",
        "lcm = int((no*nt)/hcf)\n",
        "\n",
        "print(\"\\nLCM (\" + str(no) + \", \" + str(nt) + \") = \", lcm)\n",
        "print(\"HCF (\" + str(no) + \", \" + str(nt) + \") = \", hcf)"
      ],
      "metadata": {
        "id": "mRbbh2kvLBC7",
        "colab": {
          "base_uri": "https://localhost:8080/"
        },
        "outputId": "63d3eff2-bb75-40d4-82dc-8ae057ea98a4"
      },
      "execution_count": 85,
      "outputs": [
        {
          "output_type": "stream",
          "name": "stdout",
          "text": [
            "Enter Two Numbers : 7\n",
            "56\n",
            "\n",
            "LCM (7, 56) =  56\n",
            "HCF (7, 56) =  7\n"
          ]
        }
      ]
    },
    {
      "cell_type": "code",
      "source": [
        ""
      ],
      "metadata": {
        "id": "iKtzmc2jLBy8"
      },
      "execution_count": 85,
      "outputs": []
    }
  ]
}