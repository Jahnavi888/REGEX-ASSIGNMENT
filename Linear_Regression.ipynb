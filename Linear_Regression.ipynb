{
  "nbformat": 4,
  "nbformat_minor": 0,
  "metadata": {
    "colab": {
      "name": "Linear Regression.ipynb",
      "provenance": [],
      "collapsed_sections": []
    },
    "kernelspec": {
      "name": "python3",
      "display_name": "Python 3"
    },
    "language_info": {
      "name": "python"
    }
  },
  "cells": [
    {
      "cell_type": "code",
      "execution_count": 2,
      "metadata": {
        "id": "tDXl8iFA6Y6j"
      },
      "outputs": [],
      "source": [
        "import numpy as np\n",
        "import pandas as pd\n",
        "from sklearn import metrics\n",
        "%matplotlib inline\n",
        "import matplotlib.pyplot as plt"
      ]
    },
    {
      "cell_type": "code",
      "source": [
        "from sklearn.model_selection import train_test_split\n",
        "from sklearn.linear_model import LinearRegression"
      ],
      "metadata": {
        "id": "LzUKKqIl9GNU"
      },
      "execution_count": 3,
      "outputs": []
    },
    {
      "cell_type": "code",
      "source": [
        "data = pd.read_csv('fundamentals (1).csv')"
      ],
      "metadata": {
        "id": "D0rG7qcw9j71"
      },
      "execution_count": 4,
      "outputs": []
    },
    {
      "cell_type": "code",
      "source": [
        "data.head()"
      ],
      "metadata": {
        "colab": {
          "base_uri": "https://localhost:8080/",
          "height": 421
        },
        "id": "LGmbTEbd90zy",
        "outputId": "6a71188c-dc0e-416c-a324-4061963c1a53"
      },
      "execution_count": 5,
      "outputs": [
        {
          "output_type": "execute_result",
          "data": {
            "text/plain": [
              "   Unnamed: 0 Ticker Symbol Period Ending  Accounts Payable  \\\n",
              "0           0           AAL    2012-12-31      3.068000e+09   \n",
              "1           1           AAL    2013-12-31      4.975000e+09   \n",
              "2           2           AAL    2014-12-31      4.668000e+09   \n",
              "3           3           AAL    2015-12-31      5.102000e+09   \n",
              "4           4           AAP    2012-12-29      2.409453e+09   \n",
              "\n",
              "   Accounts Receivable  Add'l income/expense items  After Tax ROE  \\\n",
              "0         -222000000.0               -1.961000e+09           23.0   \n",
              "1          -93000000.0               -2.723000e+09           67.0   \n",
              "2         -160000000.0               -1.500000e+08          143.0   \n",
              "3          352000000.0               -7.080000e+08          135.0   \n",
              "4          -89482000.0                6.000000e+05           32.0   \n",
              "\n",
              "   Capital Expenditures  Capital Surplus  Cash Ratio  ...  \\\n",
              "0         -1.888000e+09     4.695000e+09        53.0  ...   \n",
              "1         -3.114000e+09     1.059200e+10        75.0  ...   \n",
              "2         -5.311000e+09     1.513500e+10        60.0  ...   \n",
              "3         -6.151000e+09     1.159100e+10        51.0  ...   \n",
              "4         -2.711820e+08     5.202150e+08        23.0  ...   \n",
              "\n",
              "   Total Current Assets  Total Current Liabilities  Total Equity  \\\n",
              "0          7.072000e+09               9.011000e+09 -7.987000e+09   \n",
              "1          1.432300e+10               1.380600e+10 -2.731000e+09   \n",
              "2          1.175000e+10               1.340400e+10  2.021000e+09   \n",
              "3          9.985000e+09               1.360500e+10  5.635000e+09   \n",
              "4          3.184200e+09               2.559638e+09  1.210694e+09   \n",
              "\n",
              "   Total Liabilities  Total Liabilities & Equity  Total Revenue  \\\n",
              "0       2.489100e+10                1.690400e+10   2.485500e+10   \n",
              "1       4.500900e+10                4.227800e+10   2.674300e+10   \n",
              "2       4.120400e+10                4.322500e+10   4.265000e+10   \n",
              "3       4.278000e+10                4.841500e+10   4.099000e+10   \n",
              "4       3.403120e+09                4.613814e+09   6.205003e+09   \n",
              "\n",
              "   Treasury Stock  For Year  Earnings Per Share  Estimated Shares Outstanding  \n",
              "0    -367000000.0    2012.0               -5.60                  3.350000e+08  \n",
              "1             0.0    2013.0              -11.25                  1.630222e+08  \n",
              "2             0.0    2014.0                4.02                  7.169154e+08  \n",
              "3             0.0    2015.0               11.39                  6.681299e+08  \n",
              "4     -27095000.0    2012.0                5.29                  7.328355e+07  \n",
              "\n",
              "[5 rows x 79 columns]"
            ],
            "text/html": [
              "\n",
              "  <div id=\"df-49aabece-0392-44af-92fd-8737ef6657d6\">\n",
              "    <div class=\"colab-df-container\">\n",
              "      <div>\n",
              "<style scoped>\n",
              "    .dataframe tbody tr th:only-of-type {\n",
              "        vertical-align: middle;\n",
              "    }\n",
              "\n",
              "    .dataframe tbody tr th {\n",
              "        vertical-align: top;\n",
              "    }\n",
              "\n",
              "    .dataframe thead th {\n",
              "        text-align: right;\n",
              "    }\n",
              "</style>\n",
              "<table border=\"1\" class=\"dataframe\">\n",
              "  <thead>\n",
              "    <tr style=\"text-align: right;\">\n",
              "      <th></th>\n",
              "      <th>Unnamed: 0</th>\n",
              "      <th>Ticker Symbol</th>\n",
              "      <th>Period Ending</th>\n",
              "      <th>Accounts Payable</th>\n",
              "      <th>Accounts Receivable</th>\n",
              "      <th>Add'l income/expense items</th>\n",
              "      <th>After Tax ROE</th>\n",
              "      <th>Capital Expenditures</th>\n",
              "      <th>Capital Surplus</th>\n",
              "      <th>Cash Ratio</th>\n",
              "      <th>...</th>\n",
              "      <th>Total Current Assets</th>\n",
              "      <th>Total Current Liabilities</th>\n",
              "      <th>Total Equity</th>\n",
              "      <th>Total Liabilities</th>\n",
              "      <th>Total Liabilities &amp; Equity</th>\n",
              "      <th>Total Revenue</th>\n",
              "      <th>Treasury Stock</th>\n",
              "      <th>For Year</th>\n",
              "      <th>Earnings Per Share</th>\n",
              "      <th>Estimated Shares Outstanding</th>\n",
              "    </tr>\n",
              "  </thead>\n",
              "  <tbody>\n",
              "    <tr>\n",
              "      <th>0</th>\n",
              "      <td>0</td>\n",
              "      <td>AAL</td>\n",
              "      <td>2012-12-31</td>\n",
              "      <td>3.068000e+09</td>\n",
              "      <td>-222000000.0</td>\n",
              "      <td>-1.961000e+09</td>\n",
              "      <td>23.0</td>\n",
              "      <td>-1.888000e+09</td>\n",
              "      <td>4.695000e+09</td>\n",
              "      <td>53.0</td>\n",
              "      <td>...</td>\n",
              "      <td>7.072000e+09</td>\n",
              "      <td>9.011000e+09</td>\n",
              "      <td>-7.987000e+09</td>\n",
              "      <td>2.489100e+10</td>\n",
              "      <td>1.690400e+10</td>\n",
              "      <td>2.485500e+10</td>\n",
              "      <td>-367000000.0</td>\n",
              "      <td>2012.0</td>\n",
              "      <td>-5.60</td>\n",
              "      <td>3.350000e+08</td>\n",
              "    </tr>\n",
              "    <tr>\n",
              "      <th>1</th>\n",
              "      <td>1</td>\n",
              "      <td>AAL</td>\n",
              "      <td>2013-12-31</td>\n",
              "      <td>4.975000e+09</td>\n",
              "      <td>-93000000.0</td>\n",
              "      <td>-2.723000e+09</td>\n",
              "      <td>67.0</td>\n",
              "      <td>-3.114000e+09</td>\n",
              "      <td>1.059200e+10</td>\n",
              "      <td>75.0</td>\n",
              "      <td>...</td>\n",
              "      <td>1.432300e+10</td>\n",
              "      <td>1.380600e+10</td>\n",
              "      <td>-2.731000e+09</td>\n",
              "      <td>4.500900e+10</td>\n",
              "      <td>4.227800e+10</td>\n",
              "      <td>2.674300e+10</td>\n",
              "      <td>0.0</td>\n",
              "      <td>2013.0</td>\n",
              "      <td>-11.25</td>\n",
              "      <td>1.630222e+08</td>\n",
              "    </tr>\n",
              "    <tr>\n",
              "      <th>2</th>\n",
              "      <td>2</td>\n",
              "      <td>AAL</td>\n",
              "      <td>2014-12-31</td>\n",
              "      <td>4.668000e+09</td>\n",
              "      <td>-160000000.0</td>\n",
              "      <td>-1.500000e+08</td>\n",
              "      <td>143.0</td>\n",
              "      <td>-5.311000e+09</td>\n",
              "      <td>1.513500e+10</td>\n",
              "      <td>60.0</td>\n",
              "      <td>...</td>\n",
              "      <td>1.175000e+10</td>\n",
              "      <td>1.340400e+10</td>\n",
              "      <td>2.021000e+09</td>\n",
              "      <td>4.120400e+10</td>\n",
              "      <td>4.322500e+10</td>\n",
              "      <td>4.265000e+10</td>\n",
              "      <td>0.0</td>\n",
              "      <td>2014.0</td>\n",
              "      <td>4.02</td>\n",
              "      <td>7.169154e+08</td>\n",
              "    </tr>\n",
              "    <tr>\n",
              "      <th>3</th>\n",
              "      <td>3</td>\n",
              "      <td>AAL</td>\n",
              "      <td>2015-12-31</td>\n",
              "      <td>5.102000e+09</td>\n",
              "      <td>352000000.0</td>\n",
              "      <td>-7.080000e+08</td>\n",
              "      <td>135.0</td>\n",
              "      <td>-6.151000e+09</td>\n",
              "      <td>1.159100e+10</td>\n",
              "      <td>51.0</td>\n",
              "      <td>...</td>\n",
              "      <td>9.985000e+09</td>\n",
              "      <td>1.360500e+10</td>\n",
              "      <td>5.635000e+09</td>\n",
              "      <td>4.278000e+10</td>\n",
              "      <td>4.841500e+10</td>\n",
              "      <td>4.099000e+10</td>\n",
              "      <td>0.0</td>\n",
              "      <td>2015.0</td>\n",
              "      <td>11.39</td>\n",
              "      <td>6.681299e+08</td>\n",
              "    </tr>\n",
              "    <tr>\n",
              "      <th>4</th>\n",
              "      <td>4</td>\n",
              "      <td>AAP</td>\n",
              "      <td>2012-12-29</td>\n",
              "      <td>2.409453e+09</td>\n",
              "      <td>-89482000.0</td>\n",
              "      <td>6.000000e+05</td>\n",
              "      <td>32.0</td>\n",
              "      <td>-2.711820e+08</td>\n",
              "      <td>5.202150e+08</td>\n",
              "      <td>23.0</td>\n",
              "      <td>...</td>\n",
              "      <td>3.184200e+09</td>\n",
              "      <td>2.559638e+09</td>\n",
              "      <td>1.210694e+09</td>\n",
              "      <td>3.403120e+09</td>\n",
              "      <td>4.613814e+09</td>\n",
              "      <td>6.205003e+09</td>\n",
              "      <td>-27095000.0</td>\n",
              "      <td>2012.0</td>\n",
              "      <td>5.29</td>\n",
              "      <td>7.328355e+07</td>\n",
              "    </tr>\n",
              "  </tbody>\n",
              "</table>\n",
              "<p>5 rows × 79 columns</p>\n",
              "</div>\n",
              "      <button class=\"colab-df-convert\" onclick=\"convertToInteractive('df-49aabece-0392-44af-92fd-8737ef6657d6')\"\n",
              "              title=\"Convert this dataframe to an interactive table.\"\n",
              "              style=\"display:none;\">\n",
              "        \n",
              "  <svg xmlns=\"http://www.w3.org/2000/svg\" height=\"24px\"viewBox=\"0 0 24 24\"\n",
              "       width=\"24px\">\n",
              "    <path d=\"M0 0h24v24H0V0z\" fill=\"none\"/>\n",
              "    <path d=\"M18.56 5.44l.94 2.06.94-2.06 2.06-.94-2.06-.94-.94-2.06-.94 2.06-2.06.94zm-11 1L8.5 8.5l.94-2.06 2.06-.94-2.06-.94L8.5 2.5l-.94 2.06-2.06.94zm10 10l.94 2.06.94-2.06 2.06-.94-2.06-.94-.94-2.06-.94 2.06-2.06.94z\"/><path d=\"M17.41 7.96l-1.37-1.37c-.4-.4-.92-.59-1.43-.59-.52 0-1.04.2-1.43.59L10.3 9.45l-7.72 7.72c-.78.78-.78 2.05 0 2.83L4 21.41c.39.39.9.59 1.41.59.51 0 1.02-.2 1.41-.59l7.78-7.78 2.81-2.81c.8-.78.8-2.07 0-2.86zM5.41 20L4 18.59l7.72-7.72 1.47 1.35L5.41 20z\"/>\n",
              "  </svg>\n",
              "      </button>\n",
              "      \n",
              "  <style>\n",
              "    .colab-df-container {\n",
              "      display:flex;\n",
              "      flex-wrap:wrap;\n",
              "      gap: 12px;\n",
              "    }\n",
              "\n",
              "    .colab-df-convert {\n",
              "      background-color: #E8F0FE;\n",
              "      border: none;\n",
              "      border-radius: 50%;\n",
              "      cursor: pointer;\n",
              "      display: none;\n",
              "      fill: #1967D2;\n",
              "      height: 32px;\n",
              "      padding: 0 0 0 0;\n",
              "      width: 32px;\n",
              "    }\n",
              "\n",
              "    .colab-df-convert:hover {\n",
              "      background-color: #E2EBFA;\n",
              "      box-shadow: 0px 1px 2px rgba(60, 64, 67, 0.3), 0px 1px 3px 1px rgba(60, 64, 67, 0.15);\n",
              "      fill: #174EA6;\n",
              "    }\n",
              "\n",
              "    [theme=dark] .colab-df-convert {\n",
              "      background-color: #3B4455;\n",
              "      fill: #D2E3FC;\n",
              "    }\n",
              "\n",
              "    [theme=dark] .colab-df-convert:hover {\n",
              "      background-color: #434B5C;\n",
              "      box-shadow: 0px 1px 3px 1px rgba(0, 0, 0, 0.15);\n",
              "      filter: drop-shadow(0px 1px 2px rgba(0, 0, 0, 0.3));\n",
              "      fill: #FFFFFF;\n",
              "    }\n",
              "  </style>\n",
              "\n",
              "      <script>\n",
              "        const buttonEl =\n",
              "          document.querySelector('#df-49aabece-0392-44af-92fd-8737ef6657d6 button.colab-df-convert');\n",
              "        buttonEl.style.display =\n",
              "          google.colab.kernel.accessAllowed ? 'block' : 'none';\n",
              "\n",
              "        async function convertToInteractive(key) {\n",
              "          const element = document.querySelector('#df-49aabece-0392-44af-92fd-8737ef6657d6');\n",
              "          const dataTable =\n",
              "            await google.colab.kernel.invokeFunction('convertToInteractive',\n",
              "                                                     [key], {});\n",
              "          if (!dataTable) return;\n",
              "\n",
              "          const docLinkHtml = 'Like what you see? Visit the ' +\n",
              "            '<a target=\"_blank\" href=https://colab.research.google.com/notebooks/data_table.ipynb>data table notebook</a>'\n",
              "            + ' to learn more about interactive tables.';\n",
              "          element.innerHTML = '';\n",
              "          dataTable['output_type'] = 'display_data';\n",
              "          await google.colab.output.renderOutput(dataTable, element);\n",
              "          const docLink = document.createElement('div');\n",
              "          docLink.innerHTML = docLinkHtml;\n",
              "          element.appendChild(docLink);\n",
              "        }\n",
              "      </script>\n",
              "    </div>\n",
              "  </div>\n",
              "  "
            ]
          },
          "metadata": {},
          "execution_count": 5
        }
      ]
    },
    {
      "cell_type": "code",
      "source": [
        "data.tail()"
      ],
      "metadata": {
        "colab": {
          "base_uri": "https://localhost:8080/",
          "height": 421
        },
        "id": "z8NzAEUH97LK",
        "outputId": "08c4244b-8790-44ee-a392-12a9b022ef5f"
      },
      "execution_count": 6,
      "outputs": [
        {
          "output_type": "execute_result",
          "data": {
            "text/plain": [
              "      Unnamed: 0 Ticker Symbol Period Ending  Accounts Payable  \\\n",
              "1776        1776          ZION    2015-12-31      0.000000e+00   \n",
              "1777        1777           ZTS    2013-12-31      1.381000e+09   \n",
              "1778        1778           ZTS    2014-12-31      1.071000e+09   \n",
              "1779        1779           ZTS    2015-12-31      1.313000e+09   \n",
              "1780        1780           ZTS    2016-12-31      1.076000e+09   \n",
              "\n",
              "      Accounts Receivable  Add'l income/expense items  After Tax ROE  \\\n",
              "1776                  0.0                  -2530000.0            4.0   \n",
              "1777          -99000000.0                   9000000.0           54.0   \n",
              "1778           69000000.0                  -7000000.0           44.0   \n",
              "1779          -58000000.0                 -81000000.0           32.0   \n",
              "1780           15000000.0                   2000000.0           55.0   \n",
              "\n",
              "      Capital Expenditures  Capital Surplus  Cash Ratio  ...  \\\n",
              "1776          -157361000.0     0.000000e+00         NaN  ...   \n",
              "1777          -184000000.0     8.780000e+08        43.0  ...   \n",
              "1778          -180000000.0     9.580000e+08        81.0  ...   \n",
              "1779          -224000000.0     1.012000e+09        65.0  ...   \n",
              "1780          -216000000.0     1.024000e+09        65.0  ...   \n",
              "\n",
              "      Total Current Assets  Total Current Liabilities  Total Equity  \\\n",
              "1776          0.000000e+00               0.000000e+00  7.507519e+09   \n",
              "1777          3.357000e+09               1.415000e+09  9.400000e+08   \n",
              "1778          3.465000e+09               1.086000e+09  1.311000e+09   \n",
              "1779          3.830000e+09               1.781000e+09  1.068000e+09   \n",
              "1780          3.390000e+09               1.117000e+09  1.487000e+09   \n",
              "\n",
              "      Total Liabilities  Total Liabilities & Equity  Total Revenue  \\\n",
              "1776       5.216201e+10                5.966952e+10   2.210591e+09   \n",
              "1777       5.618000e+09                6.558000e+09   4.561000e+09   \n",
              "1778       5.277000e+09                6.588000e+09   4.785000e+09   \n",
              "1779       6.845000e+09                7.913000e+09   4.765000e+09   \n",
              "1780       6.162000e+09                7.649000e+09   4.888000e+09   \n",
              "\n",
              "      Treasury Stock  For Year  Earnings Per Share  \\\n",
              "1776             0.0    2015.0                1.20   \n",
              "1777             0.0    2013.0                1.01   \n",
              "1778             0.0    2014.0                1.16   \n",
              "1779    -203000000.0    2015.0                0.68   \n",
              "1780    -421000000.0       NaN                 NaN   \n",
              "\n",
              "      Estimated Shares Outstanding  \n",
              "1776                  2.578925e+08  \n",
              "1777                  4.990099e+08  \n",
              "1778                  5.025862e+08  \n",
              "1779                  4.985294e+08  \n",
              "1780                           NaN  \n",
              "\n",
              "[5 rows x 79 columns]"
            ],
            "text/html": [
              "\n",
              "  <div id=\"df-2edf917c-eb24-4a65-815c-01f4fd39d42e\">\n",
              "    <div class=\"colab-df-container\">\n",
              "      <div>\n",
              "<style scoped>\n",
              "    .dataframe tbody tr th:only-of-type {\n",
              "        vertical-align: middle;\n",
              "    }\n",
              "\n",
              "    .dataframe tbody tr th {\n",
              "        vertical-align: top;\n",
              "    }\n",
              "\n",
              "    .dataframe thead th {\n",
              "        text-align: right;\n",
              "    }\n",
              "</style>\n",
              "<table border=\"1\" class=\"dataframe\">\n",
              "  <thead>\n",
              "    <tr style=\"text-align: right;\">\n",
              "      <th></th>\n",
              "      <th>Unnamed: 0</th>\n",
              "      <th>Ticker Symbol</th>\n",
              "      <th>Period Ending</th>\n",
              "      <th>Accounts Payable</th>\n",
              "      <th>Accounts Receivable</th>\n",
              "      <th>Add'l income/expense items</th>\n",
              "      <th>After Tax ROE</th>\n",
              "      <th>Capital Expenditures</th>\n",
              "      <th>Capital Surplus</th>\n",
              "      <th>Cash Ratio</th>\n",
              "      <th>...</th>\n",
              "      <th>Total Current Assets</th>\n",
              "      <th>Total Current Liabilities</th>\n",
              "      <th>Total Equity</th>\n",
              "      <th>Total Liabilities</th>\n",
              "      <th>Total Liabilities &amp; Equity</th>\n",
              "      <th>Total Revenue</th>\n",
              "      <th>Treasury Stock</th>\n",
              "      <th>For Year</th>\n",
              "      <th>Earnings Per Share</th>\n",
              "      <th>Estimated Shares Outstanding</th>\n",
              "    </tr>\n",
              "  </thead>\n",
              "  <tbody>\n",
              "    <tr>\n",
              "      <th>1776</th>\n",
              "      <td>1776</td>\n",
              "      <td>ZION</td>\n",
              "      <td>2015-12-31</td>\n",
              "      <td>0.000000e+00</td>\n",
              "      <td>0.0</td>\n",
              "      <td>-2530000.0</td>\n",
              "      <td>4.0</td>\n",
              "      <td>-157361000.0</td>\n",
              "      <td>0.000000e+00</td>\n",
              "      <td>NaN</td>\n",
              "      <td>...</td>\n",
              "      <td>0.000000e+00</td>\n",
              "      <td>0.000000e+00</td>\n",
              "      <td>7.507519e+09</td>\n",
              "      <td>5.216201e+10</td>\n",
              "      <td>5.966952e+10</td>\n",
              "      <td>2.210591e+09</td>\n",
              "      <td>0.0</td>\n",
              "      <td>2015.0</td>\n",
              "      <td>1.20</td>\n",
              "      <td>2.578925e+08</td>\n",
              "    </tr>\n",
              "    <tr>\n",
              "      <th>1777</th>\n",
              "      <td>1777</td>\n",
              "      <td>ZTS</td>\n",
              "      <td>2013-12-31</td>\n",
              "      <td>1.381000e+09</td>\n",
              "      <td>-99000000.0</td>\n",
              "      <td>9000000.0</td>\n",
              "      <td>54.0</td>\n",
              "      <td>-184000000.0</td>\n",
              "      <td>8.780000e+08</td>\n",
              "      <td>43.0</td>\n",
              "      <td>...</td>\n",
              "      <td>3.357000e+09</td>\n",
              "      <td>1.415000e+09</td>\n",
              "      <td>9.400000e+08</td>\n",
              "      <td>5.618000e+09</td>\n",
              "      <td>6.558000e+09</td>\n",
              "      <td>4.561000e+09</td>\n",
              "      <td>0.0</td>\n",
              "      <td>2013.0</td>\n",
              "      <td>1.01</td>\n",
              "      <td>4.990099e+08</td>\n",
              "    </tr>\n",
              "    <tr>\n",
              "      <th>1778</th>\n",
              "      <td>1778</td>\n",
              "      <td>ZTS</td>\n",
              "      <td>2014-12-31</td>\n",
              "      <td>1.071000e+09</td>\n",
              "      <td>69000000.0</td>\n",
              "      <td>-7000000.0</td>\n",
              "      <td>44.0</td>\n",
              "      <td>-180000000.0</td>\n",
              "      <td>9.580000e+08</td>\n",
              "      <td>81.0</td>\n",
              "      <td>...</td>\n",
              "      <td>3.465000e+09</td>\n",
              "      <td>1.086000e+09</td>\n",
              "      <td>1.311000e+09</td>\n",
              "      <td>5.277000e+09</td>\n",
              "      <td>6.588000e+09</td>\n",
              "      <td>4.785000e+09</td>\n",
              "      <td>0.0</td>\n",
              "      <td>2014.0</td>\n",
              "      <td>1.16</td>\n",
              "      <td>5.025862e+08</td>\n",
              "    </tr>\n",
              "    <tr>\n",
              "      <th>1779</th>\n",
              "      <td>1779</td>\n",
              "      <td>ZTS</td>\n",
              "      <td>2015-12-31</td>\n",
              "      <td>1.313000e+09</td>\n",
              "      <td>-58000000.0</td>\n",
              "      <td>-81000000.0</td>\n",
              "      <td>32.0</td>\n",
              "      <td>-224000000.0</td>\n",
              "      <td>1.012000e+09</td>\n",
              "      <td>65.0</td>\n",
              "      <td>...</td>\n",
              "      <td>3.830000e+09</td>\n",
              "      <td>1.781000e+09</td>\n",
              "      <td>1.068000e+09</td>\n",
              "      <td>6.845000e+09</td>\n",
              "      <td>7.913000e+09</td>\n",
              "      <td>4.765000e+09</td>\n",
              "      <td>-203000000.0</td>\n",
              "      <td>2015.0</td>\n",
              "      <td>0.68</td>\n",
              "      <td>4.985294e+08</td>\n",
              "    </tr>\n",
              "    <tr>\n",
              "      <th>1780</th>\n",
              "      <td>1780</td>\n",
              "      <td>ZTS</td>\n",
              "      <td>2016-12-31</td>\n",
              "      <td>1.076000e+09</td>\n",
              "      <td>15000000.0</td>\n",
              "      <td>2000000.0</td>\n",
              "      <td>55.0</td>\n",
              "      <td>-216000000.0</td>\n",
              "      <td>1.024000e+09</td>\n",
              "      <td>65.0</td>\n",
              "      <td>...</td>\n",
              "      <td>3.390000e+09</td>\n",
              "      <td>1.117000e+09</td>\n",
              "      <td>1.487000e+09</td>\n",
              "      <td>6.162000e+09</td>\n",
              "      <td>7.649000e+09</td>\n",
              "      <td>4.888000e+09</td>\n",
              "      <td>-421000000.0</td>\n",
              "      <td>NaN</td>\n",
              "      <td>NaN</td>\n",
              "      <td>NaN</td>\n",
              "    </tr>\n",
              "  </tbody>\n",
              "</table>\n",
              "<p>5 rows × 79 columns</p>\n",
              "</div>\n",
              "      <button class=\"colab-df-convert\" onclick=\"convertToInteractive('df-2edf917c-eb24-4a65-815c-01f4fd39d42e')\"\n",
              "              title=\"Convert this dataframe to an interactive table.\"\n",
              "              style=\"display:none;\">\n",
              "        \n",
              "  <svg xmlns=\"http://www.w3.org/2000/svg\" height=\"24px\"viewBox=\"0 0 24 24\"\n",
              "       width=\"24px\">\n",
              "    <path d=\"M0 0h24v24H0V0z\" fill=\"none\"/>\n",
              "    <path d=\"M18.56 5.44l.94 2.06.94-2.06 2.06-.94-2.06-.94-.94-2.06-.94 2.06-2.06.94zm-11 1L8.5 8.5l.94-2.06 2.06-.94-2.06-.94L8.5 2.5l-.94 2.06-2.06.94zm10 10l.94 2.06.94-2.06 2.06-.94-2.06-.94-.94-2.06-.94 2.06-2.06.94z\"/><path d=\"M17.41 7.96l-1.37-1.37c-.4-.4-.92-.59-1.43-.59-.52 0-1.04.2-1.43.59L10.3 9.45l-7.72 7.72c-.78.78-.78 2.05 0 2.83L4 21.41c.39.39.9.59 1.41.59.51 0 1.02-.2 1.41-.59l7.78-7.78 2.81-2.81c.8-.78.8-2.07 0-2.86zM5.41 20L4 18.59l7.72-7.72 1.47 1.35L5.41 20z\"/>\n",
              "  </svg>\n",
              "      </button>\n",
              "      \n",
              "  <style>\n",
              "    .colab-df-container {\n",
              "      display:flex;\n",
              "      flex-wrap:wrap;\n",
              "      gap: 12px;\n",
              "    }\n",
              "\n",
              "    .colab-df-convert {\n",
              "      background-color: #E8F0FE;\n",
              "      border: none;\n",
              "      border-radius: 50%;\n",
              "      cursor: pointer;\n",
              "      display: none;\n",
              "      fill: #1967D2;\n",
              "      height: 32px;\n",
              "      padding: 0 0 0 0;\n",
              "      width: 32px;\n",
              "    }\n",
              "\n",
              "    .colab-df-convert:hover {\n",
              "      background-color: #E2EBFA;\n",
              "      box-shadow: 0px 1px 2px rgba(60, 64, 67, 0.3), 0px 1px 3px 1px rgba(60, 64, 67, 0.15);\n",
              "      fill: #174EA6;\n",
              "    }\n",
              "\n",
              "    [theme=dark] .colab-df-convert {\n",
              "      background-color: #3B4455;\n",
              "      fill: #D2E3FC;\n",
              "    }\n",
              "\n",
              "    [theme=dark] .colab-df-convert:hover {\n",
              "      background-color: #434B5C;\n",
              "      box-shadow: 0px 1px 3px 1px rgba(0, 0, 0, 0.15);\n",
              "      filter: drop-shadow(0px 1px 2px rgba(0, 0, 0, 0.3));\n",
              "      fill: #FFFFFF;\n",
              "    }\n",
              "  </style>\n",
              "\n",
              "      <script>\n",
              "        const buttonEl =\n",
              "          document.querySelector('#df-2edf917c-eb24-4a65-815c-01f4fd39d42e button.colab-df-convert');\n",
              "        buttonEl.style.display =\n",
              "          google.colab.kernel.accessAllowed ? 'block' : 'none';\n",
              "\n",
              "        async function convertToInteractive(key) {\n",
              "          const element = document.querySelector('#df-2edf917c-eb24-4a65-815c-01f4fd39d42e');\n",
              "          const dataTable =\n",
              "            await google.colab.kernel.invokeFunction('convertToInteractive',\n",
              "                                                     [key], {});\n",
              "          if (!dataTable) return;\n",
              "\n",
              "          const docLinkHtml = 'Like what you see? Visit the ' +\n",
              "            '<a target=\"_blank\" href=https://colab.research.google.com/notebooks/data_table.ipynb>data table notebook</a>'\n",
              "            + ' to learn more about interactive tables.';\n",
              "          element.innerHTML = '';\n",
              "          dataTable['output_type'] = 'display_data';\n",
              "          await google.colab.output.renderOutput(dataTable, element);\n",
              "          const docLink = document.createElement('div');\n",
              "          docLink.innerHTML = docLinkHtml;\n",
              "          element.appendChild(docLink);\n",
              "        }\n",
              "      </script>\n",
              "    </div>\n",
              "  </div>\n",
              "  "
            ]
          },
          "metadata": {},
          "execution_count": 6
        }
      ]
    },
    {
      "cell_type": "code",
      "source": [
        "data.info()"
      ],
      "metadata": {
        "colab": {
          "base_uri": "https://localhost:8080/"
        },
        "id": "b8G5fKo298Vt",
        "outputId": "17053eb9-4459-4723-ddc2-a28af0dc0ee7"
      },
      "execution_count": 7,
      "outputs": [
        {
          "output_type": "stream",
          "name": "stdout",
          "text": [
            "<class 'pandas.core.frame.DataFrame'>\n",
            "RangeIndex: 1781 entries, 0 to 1780\n",
            "Data columns (total 79 columns):\n",
            " #   Column                                               Non-Null Count  Dtype  \n",
            "---  ------                                               --------------  -----  \n",
            " 0   Unnamed: 0                                           1781 non-null   int64  \n",
            " 1   Ticker Symbol                                        1781 non-null   object \n",
            " 2   Period Ending                                        1781 non-null   object \n",
            " 3   Accounts Payable                                     1781 non-null   float64\n",
            " 4   Accounts Receivable                                  1781 non-null   float64\n",
            " 5   Add'l income/expense items                           1781 non-null   float64\n",
            " 6   After Tax ROE                                        1781 non-null   float64\n",
            " 7   Capital Expenditures                                 1781 non-null   float64\n",
            " 8   Capital Surplus                                      1781 non-null   float64\n",
            " 9   Cash Ratio                                           1482 non-null   float64\n",
            " 10  Cash and Cash Equivalents                            1781 non-null   float64\n",
            " 11  Changes in Inventories                               1781 non-null   float64\n",
            " 12  Common Stocks                                        1781 non-null   float64\n",
            " 13  Cost of Revenue                                      1781 non-null   float64\n",
            " 14  Current Ratio                                        1482 non-null   float64\n",
            " 15  Deferred Asset Charges                               1781 non-null   float64\n",
            " 16  Deferred Liability Charges                           1781 non-null   float64\n",
            " 17  Depreciation                                         1781 non-null   float64\n",
            " 18  Earnings Before Interest and Tax                     1781 non-null   float64\n",
            " 19  Earnings Before Tax                                  1781 non-null   float64\n",
            " 20  Effect of Exchange Rate                              1781 non-null   float64\n",
            " 21  Equity Earnings/Loss Unconsolidated Subsidiary       1781 non-null   float64\n",
            " 22  Fixed Assets                                         1781 non-null   float64\n",
            " 23  Goodwill                                             1781 non-null   float64\n",
            " 24  Gross Margin                                         1781 non-null   float64\n",
            " 25  Gross Profit                                         1781 non-null   float64\n",
            " 26  Income Tax                                           1781 non-null   float64\n",
            " 27  Intangible Assets                                    1781 non-null   float64\n",
            " 28  Interest Expense                                     1781 non-null   float64\n",
            " 29  Inventory                                            1781 non-null   float64\n",
            " 30  Investments                                          1781 non-null   float64\n",
            " 31  Liabilities                                          1781 non-null   float64\n",
            " 32  Long-Term Debt                                       1781 non-null   float64\n",
            " 33  Long-Term Investments                                1781 non-null   float64\n",
            " 34  Minority Interest                                    1781 non-null   float64\n",
            " 35  Misc. Stocks                                         1781 non-null   float64\n",
            " 36  Net Borrowings                                       1781 non-null   float64\n",
            " 37  Net Cash Flow                                        1781 non-null   float64\n",
            " 38  Net Cash Flow-Operating                              1781 non-null   float64\n",
            " 39  Net Cash Flows-Financing                             1781 non-null   float64\n",
            " 40  Net Cash Flows-Investing                             1781 non-null   float64\n",
            " 41  Net Income                                           1781 non-null   float64\n",
            " 42  Net Income Adjustments                               1781 non-null   float64\n",
            " 43  Net Income Applicable to Common Shareholders         1781 non-null   float64\n",
            " 44  Net Income-Cont. Operations                          1781 non-null   float64\n",
            " 45  Net Receivables                                      1781 non-null   float64\n",
            " 46  Non-Recurring Items                                  1781 non-null   float64\n",
            " 47  Operating Income                                     1781 non-null   float64\n",
            " 48  Operating Margin                                     1781 non-null   float64\n",
            " 49  Other Assets                                         1781 non-null   float64\n",
            " 50  Other Current Assets                                 1781 non-null   float64\n",
            " 51  Other Current Liabilities                            1781 non-null   float64\n",
            " 52  Other Equity                                         1781 non-null   float64\n",
            " 53  Other Financing Activities                           1781 non-null   float64\n",
            " 54  Other Investing Activities                           1781 non-null   float64\n",
            " 55  Other Liabilities                                    1781 non-null   float64\n",
            " 56  Other Operating Activities                           1781 non-null   float64\n",
            " 57  Other Operating Items                                1781 non-null   float64\n",
            " 58  Pre-Tax Margin                                       1781 non-null   float64\n",
            " 59  Pre-Tax ROE                                          1781 non-null   float64\n",
            " 60  Profit Margin                                        1781 non-null   float64\n",
            " 61  Quick Ratio                                          1482 non-null   float64\n",
            " 62  Research and Development                             1781 non-null   float64\n",
            " 63  Retained Earnings                                    1781 non-null   float64\n",
            " 64  Sale and Purchase of Stock                           1781 non-null   float64\n",
            " 65  Sales, General and Admin.                            1781 non-null   float64\n",
            " 66  Short-Term Debt / Current Portion of Long-Term Debt  1781 non-null   float64\n",
            " 67  Short-Term Investments                               1781 non-null   float64\n",
            " 68  Total Assets                                         1781 non-null   float64\n",
            " 69  Total Current Assets                                 1781 non-null   float64\n",
            " 70  Total Current Liabilities                            1781 non-null   float64\n",
            " 71  Total Equity                                         1781 non-null   float64\n",
            " 72  Total Liabilities                                    1781 non-null   float64\n",
            " 73  Total Liabilities & Equity                           1781 non-null   float64\n",
            " 74  Total Revenue                                        1781 non-null   float64\n",
            " 75  Treasury Stock                                       1781 non-null   float64\n",
            " 76  For Year                                             1608 non-null   float64\n",
            " 77  Earnings Per Share                                   1562 non-null   float64\n",
            " 78  Estimated Shares Outstanding                         1562 non-null   float64\n",
            "dtypes: float64(76), int64(1), object(2)\n",
            "memory usage: 1.1+ MB\n"
          ]
        }
      ]
    },
    {
      "cell_type": "code",
      "source": [
        "data.describe()"
      ],
      "metadata": {
        "colab": {
          "base_uri": "https://localhost:8080/",
          "height": 428
        },
        "id": "FB6ReRqw99T3",
        "outputId": "4c49e1a4-b8a4-4dad-d623-10ffc56ec385"
      },
      "execution_count": 8,
      "outputs": [
        {
          "output_type": "execute_result",
          "data": {
            "text/plain": [
              "        Unnamed: 0  Accounts Payable  Accounts Receivable  \\\n",
              "count  1781.000000      1.781000e+03         1.781000e+03   \n",
              "mean    890.000000      4.673418e+09        -6.353484e+07   \n",
              "std     514.274732      1.406047e+10         7.562794e+08   \n",
              "min       0.000000      0.000000e+00        -6.452000e+09   \n",
              "25%     445.000000      5.160000e+08        -1.040000e+08   \n",
              "50%     890.000000      1.334000e+09        -1.830000e+07   \n",
              "75%    1335.000000      3.246000e+09         7.816000e+06   \n",
              "max    1780.000000      2.069390e+11         2.266400e+10   \n",
              "\n",
              "       Add'l income/expense items  After Tax ROE  Capital Expenditures  \\\n",
              "count                1.781000e+03    1781.000000          1.781000e+03   \n",
              "mean                 6.908940e+07      43.601348         -1.251925e+09   \n",
              "std                  6.848143e+08     233.924028          2.979963e+09   \n",
              "min                 -6.768000e+09       0.000000         -3.798500e+10   \n",
              "25%                 -2.638000e+06      10.000000         -1.151200e+09   \n",
              "50%                  2.000000e+06      16.000000         -3.580000e+08   \n",
              "75%                  3.359200e+07      26.000000         -1.291000e+08   \n",
              "max                  1.416200e+10    5789.000000          5.000000e+06   \n",
              "\n",
              "       Capital Surplus   Cash Ratio  Cash and Cash Equivalents  \\\n",
              "count     1.781000e+03  1482.000000               1.781000e+03   \n",
              "mean      5.351784e+09    74.457490               8.521399e+09   \n",
              "std       1.133977e+10   102.298374               5.432105e+10   \n",
              "min      -7.215000e+08     0.000000               2.100000e+04   \n",
              "25%       4.791000e+08    17.000000               3.088000e+08   \n",
              "50%       1.997080e+09    41.000000               8.625900e+08   \n",
              "75%       5.735000e+09    90.000000               2.310000e+09   \n",
              "max       1.082880e+11  1041.000000               7.281110e+11   \n",
              "\n",
              "       Changes in Inventories  ...  Total Current Assets  \\\n",
              "count            1.781000e+03  ...          1.781000e+03   \n",
              "mean            -6.787749e+07  ...          6.726349e+09   \n",
              "std              3.903369e+08  ...          1.344800e+10   \n",
              "min             -5.562000e+09  ...          0.000000e+00   \n",
              "25%             -5.400000e+07  ...          1.044178e+09   \n",
              "50%              0.000000e+00  ...          2.747200e+09   \n",
              "75%              0.000000e+00  ...          6.162000e+09   \n",
              "max              3.755000e+09  ...          1.396600e+11   \n",
              "\n",
              "       Total Current Liabilities  Total Equity  Total Liabilities  \\\n",
              "count               1.781000e+03  1.781000e+03       1.781000e+03   \n",
              "mean                4.699919e+09  1.188846e+10       4.380420e+10   \n",
              "std                 9.538832e+09  2.584429e+10       1.817039e+11   \n",
              "min                 0.000000e+00 -1.324400e+10       2.577000e+06   \n",
              "25%                 5.640760e+08  2.201492e+09       3.843300e+09   \n",
              "50%                 1.701500e+09  4.983000e+09       9.141000e+09   \n",
              "75%                 4.381000e+09  1.080900e+10       2.389700e+10   \n",
              "max                 9.028100e+10  2.562050e+11       2.340547e+12   \n",
              "\n",
              "       Total Liabilities & Equity  Total Revenue  Treasury Stock     For Year  \\\n",
              "count                1.781000e+03   1.781000e+03    1.781000e+03  1608.000000   \n",
              "mean                 5.569266e+10   2.029154e+10   -3.951522e+09  2013.305348   \n",
              "std                  2.033612e+11   4.095355e+10    1.407047e+10    19.953135   \n",
              "min                  2.705000e+06   1.514000e+06   -2.297340e+11  1215.000000   \n",
              "25%                  6.552689e+09   3.714000e+09   -3.040895e+09  2013.000000   \n",
              "50%                  1.517000e+10   8.023200e+09   -3.068350e+08  2014.000000   \n",
              "75%                  3.599710e+10   1.748600e+10    0.000000e+00  2015.000000   \n",
              "max                  2.572274e+12   4.856510e+11    0.000000e+00  2016.000000   \n",
              "\n",
              "       Earnings Per Share  Estimated Shares Outstanding  \n",
              "count         1562.000000                  1.562000e+03  \n",
              "mean             3.353707                  6.024244e+08  \n",
              "std              4.695896                  1.142585e+09  \n",
              "min            -61.200000                 -1.513945e+09  \n",
              "25%              1.590000                  1.493318e+08  \n",
              "50%              2.810000                  2.929409e+08  \n",
              "75%              4.590000                  5.492163e+08  \n",
              "max             50.090000                  1.610769e+10  \n",
              "\n",
              "[8 rows x 77 columns]"
            ],
            "text/html": [
              "\n",
              "  <div id=\"df-109a234b-256c-4b5b-bbff-660ab2d20777\">\n",
              "    <div class=\"colab-df-container\">\n",
              "      <div>\n",
              "<style scoped>\n",
              "    .dataframe tbody tr th:only-of-type {\n",
              "        vertical-align: middle;\n",
              "    }\n",
              "\n",
              "    .dataframe tbody tr th {\n",
              "        vertical-align: top;\n",
              "    }\n",
              "\n",
              "    .dataframe thead th {\n",
              "        text-align: right;\n",
              "    }\n",
              "</style>\n",
              "<table border=\"1\" class=\"dataframe\">\n",
              "  <thead>\n",
              "    <tr style=\"text-align: right;\">\n",
              "      <th></th>\n",
              "      <th>Unnamed: 0</th>\n",
              "      <th>Accounts Payable</th>\n",
              "      <th>Accounts Receivable</th>\n",
              "      <th>Add'l income/expense items</th>\n",
              "      <th>After Tax ROE</th>\n",
              "      <th>Capital Expenditures</th>\n",
              "      <th>Capital Surplus</th>\n",
              "      <th>Cash Ratio</th>\n",
              "      <th>Cash and Cash Equivalents</th>\n",
              "      <th>Changes in Inventories</th>\n",
              "      <th>...</th>\n",
              "      <th>Total Current Assets</th>\n",
              "      <th>Total Current Liabilities</th>\n",
              "      <th>Total Equity</th>\n",
              "      <th>Total Liabilities</th>\n",
              "      <th>Total Liabilities &amp; Equity</th>\n",
              "      <th>Total Revenue</th>\n",
              "      <th>Treasury Stock</th>\n",
              "      <th>For Year</th>\n",
              "      <th>Earnings Per Share</th>\n",
              "      <th>Estimated Shares Outstanding</th>\n",
              "    </tr>\n",
              "  </thead>\n",
              "  <tbody>\n",
              "    <tr>\n",
              "      <th>count</th>\n",
              "      <td>1781.000000</td>\n",
              "      <td>1.781000e+03</td>\n",
              "      <td>1.781000e+03</td>\n",
              "      <td>1.781000e+03</td>\n",
              "      <td>1781.000000</td>\n",
              "      <td>1.781000e+03</td>\n",
              "      <td>1.781000e+03</td>\n",
              "      <td>1482.000000</td>\n",
              "      <td>1.781000e+03</td>\n",
              "      <td>1.781000e+03</td>\n",
              "      <td>...</td>\n",
              "      <td>1.781000e+03</td>\n",
              "      <td>1.781000e+03</td>\n",
              "      <td>1.781000e+03</td>\n",
              "      <td>1.781000e+03</td>\n",
              "      <td>1.781000e+03</td>\n",
              "      <td>1.781000e+03</td>\n",
              "      <td>1.781000e+03</td>\n",
              "      <td>1608.000000</td>\n",
              "      <td>1562.000000</td>\n",
              "      <td>1.562000e+03</td>\n",
              "    </tr>\n",
              "    <tr>\n",
              "      <th>mean</th>\n",
              "      <td>890.000000</td>\n",
              "      <td>4.673418e+09</td>\n",
              "      <td>-6.353484e+07</td>\n",
              "      <td>6.908940e+07</td>\n",
              "      <td>43.601348</td>\n",
              "      <td>-1.251925e+09</td>\n",
              "      <td>5.351784e+09</td>\n",
              "      <td>74.457490</td>\n",
              "      <td>8.521399e+09</td>\n",
              "      <td>-6.787749e+07</td>\n",
              "      <td>...</td>\n",
              "      <td>6.726349e+09</td>\n",
              "      <td>4.699919e+09</td>\n",
              "      <td>1.188846e+10</td>\n",
              "      <td>4.380420e+10</td>\n",
              "      <td>5.569266e+10</td>\n",
              "      <td>2.029154e+10</td>\n",
              "      <td>-3.951522e+09</td>\n",
              "      <td>2013.305348</td>\n",
              "      <td>3.353707</td>\n",
              "      <td>6.024244e+08</td>\n",
              "    </tr>\n",
              "    <tr>\n",
              "      <th>std</th>\n",
              "      <td>514.274732</td>\n",
              "      <td>1.406047e+10</td>\n",
              "      <td>7.562794e+08</td>\n",
              "      <td>6.848143e+08</td>\n",
              "      <td>233.924028</td>\n",
              "      <td>2.979963e+09</td>\n",
              "      <td>1.133977e+10</td>\n",
              "      <td>102.298374</td>\n",
              "      <td>5.432105e+10</td>\n",
              "      <td>3.903369e+08</td>\n",
              "      <td>...</td>\n",
              "      <td>1.344800e+10</td>\n",
              "      <td>9.538832e+09</td>\n",
              "      <td>2.584429e+10</td>\n",
              "      <td>1.817039e+11</td>\n",
              "      <td>2.033612e+11</td>\n",
              "      <td>4.095355e+10</td>\n",
              "      <td>1.407047e+10</td>\n",
              "      <td>19.953135</td>\n",
              "      <td>4.695896</td>\n",
              "      <td>1.142585e+09</td>\n",
              "    </tr>\n",
              "    <tr>\n",
              "      <th>min</th>\n",
              "      <td>0.000000</td>\n",
              "      <td>0.000000e+00</td>\n",
              "      <td>-6.452000e+09</td>\n",
              "      <td>-6.768000e+09</td>\n",
              "      <td>0.000000</td>\n",
              "      <td>-3.798500e+10</td>\n",
              "      <td>-7.215000e+08</td>\n",
              "      <td>0.000000</td>\n",
              "      <td>2.100000e+04</td>\n",
              "      <td>-5.562000e+09</td>\n",
              "      <td>...</td>\n",
              "      <td>0.000000e+00</td>\n",
              "      <td>0.000000e+00</td>\n",
              "      <td>-1.324400e+10</td>\n",
              "      <td>2.577000e+06</td>\n",
              "      <td>2.705000e+06</td>\n",
              "      <td>1.514000e+06</td>\n",
              "      <td>-2.297340e+11</td>\n",
              "      <td>1215.000000</td>\n",
              "      <td>-61.200000</td>\n",
              "      <td>-1.513945e+09</td>\n",
              "    </tr>\n",
              "    <tr>\n",
              "      <th>25%</th>\n",
              "      <td>445.000000</td>\n",
              "      <td>5.160000e+08</td>\n",
              "      <td>-1.040000e+08</td>\n",
              "      <td>-2.638000e+06</td>\n",
              "      <td>10.000000</td>\n",
              "      <td>-1.151200e+09</td>\n",
              "      <td>4.791000e+08</td>\n",
              "      <td>17.000000</td>\n",
              "      <td>3.088000e+08</td>\n",
              "      <td>-5.400000e+07</td>\n",
              "      <td>...</td>\n",
              "      <td>1.044178e+09</td>\n",
              "      <td>5.640760e+08</td>\n",
              "      <td>2.201492e+09</td>\n",
              "      <td>3.843300e+09</td>\n",
              "      <td>6.552689e+09</td>\n",
              "      <td>3.714000e+09</td>\n",
              "      <td>-3.040895e+09</td>\n",
              "      <td>2013.000000</td>\n",
              "      <td>1.590000</td>\n",
              "      <td>1.493318e+08</td>\n",
              "    </tr>\n",
              "    <tr>\n",
              "      <th>50%</th>\n",
              "      <td>890.000000</td>\n",
              "      <td>1.334000e+09</td>\n",
              "      <td>-1.830000e+07</td>\n",
              "      <td>2.000000e+06</td>\n",
              "      <td>16.000000</td>\n",
              "      <td>-3.580000e+08</td>\n",
              "      <td>1.997080e+09</td>\n",
              "      <td>41.000000</td>\n",
              "      <td>8.625900e+08</td>\n",
              "      <td>0.000000e+00</td>\n",
              "      <td>...</td>\n",
              "      <td>2.747200e+09</td>\n",
              "      <td>1.701500e+09</td>\n",
              "      <td>4.983000e+09</td>\n",
              "      <td>9.141000e+09</td>\n",
              "      <td>1.517000e+10</td>\n",
              "      <td>8.023200e+09</td>\n",
              "      <td>-3.068350e+08</td>\n",
              "      <td>2014.000000</td>\n",
              "      <td>2.810000</td>\n",
              "      <td>2.929409e+08</td>\n",
              "    </tr>\n",
              "    <tr>\n",
              "      <th>75%</th>\n",
              "      <td>1335.000000</td>\n",
              "      <td>3.246000e+09</td>\n",
              "      <td>7.816000e+06</td>\n",
              "      <td>3.359200e+07</td>\n",
              "      <td>26.000000</td>\n",
              "      <td>-1.291000e+08</td>\n",
              "      <td>5.735000e+09</td>\n",
              "      <td>90.000000</td>\n",
              "      <td>2.310000e+09</td>\n",
              "      <td>0.000000e+00</td>\n",
              "      <td>...</td>\n",
              "      <td>6.162000e+09</td>\n",
              "      <td>4.381000e+09</td>\n",
              "      <td>1.080900e+10</td>\n",
              "      <td>2.389700e+10</td>\n",
              "      <td>3.599710e+10</td>\n",
              "      <td>1.748600e+10</td>\n",
              "      <td>0.000000e+00</td>\n",
              "      <td>2015.000000</td>\n",
              "      <td>4.590000</td>\n",
              "      <td>5.492163e+08</td>\n",
              "    </tr>\n",
              "    <tr>\n",
              "      <th>max</th>\n",
              "      <td>1780.000000</td>\n",
              "      <td>2.069390e+11</td>\n",
              "      <td>2.266400e+10</td>\n",
              "      <td>1.416200e+10</td>\n",
              "      <td>5789.000000</td>\n",
              "      <td>5.000000e+06</td>\n",
              "      <td>1.082880e+11</td>\n",
              "      <td>1041.000000</td>\n",
              "      <td>7.281110e+11</td>\n",
              "      <td>3.755000e+09</td>\n",
              "      <td>...</td>\n",
              "      <td>1.396600e+11</td>\n",
              "      <td>9.028100e+10</td>\n",
              "      <td>2.562050e+11</td>\n",
              "      <td>2.340547e+12</td>\n",
              "      <td>2.572274e+12</td>\n",
              "      <td>4.856510e+11</td>\n",
              "      <td>0.000000e+00</td>\n",
              "      <td>2016.000000</td>\n",
              "      <td>50.090000</td>\n",
              "      <td>1.610769e+10</td>\n",
              "    </tr>\n",
              "  </tbody>\n",
              "</table>\n",
              "<p>8 rows × 77 columns</p>\n",
              "</div>\n",
              "      <button class=\"colab-df-convert\" onclick=\"convertToInteractive('df-109a234b-256c-4b5b-bbff-660ab2d20777')\"\n",
              "              title=\"Convert this dataframe to an interactive table.\"\n",
              "              style=\"display:none;\">\n",
              "        \n",
              "  <svg xmlns=\"http://www.w3.org/2000/svg\" height=\"24px\"viewBox=\"0 0 24 24\"\n",
              "       width=\"24px\">\n",
              "    <path d=\"M0 0h24v24H0V0z\" fill=\"none\"/>\n",
              "    <path d=\"M18.56 5.44l.94 2.06.94-2.06 2.06-.94-2.06-.94-.94-2.06-.94 2.06-2.06.94zm-11 1L8.5 8.5l.94-2.06 2.06-.94-2.06-.94L8.5 2.5l-.94 2.06-2.06.94zm10 10l.94 2.06.94-2.06 2.06-.94-2.06-.94-.94-2.06-.94 2.06-2.06.94z\"/><path d=\"M17.41 7.96l-1.37-1.37c-.4-.4-.92-.59-1.43-.59-.52 0-1.04.2-1.43.59L10.3 9.45l-7.72 7.72c-.78.78-.78 2.05 0 2.83L4 21.41c.39.39.9.59 1.41.59.51 0 1.02-.2 1.41-.59l7.78-7.78 2.81-2.81c.8-.78.8-2.07 0-2.86zM5.41 20L4 18.59l7.72-7.72 1.47 1.35L5.41 20z\"/>\n",
              "  </svg>\n",
              "      </button>\n",
              "      \n",
              "  <style>\n",
              "    .colab-df-container {\n",
              "      display:flex;\n",
              "      flex-wrap:wrap;\n",
              "      gap: 12px;\n",
              "    }\n",
              "\n",
              "    .colab-df-convert {\n",
              "      background-color: #E8F0FE;\n",
              "      border: none;\n",
              "      border-radius: 50%;\n",
              "      cursor: pointer;\n",
              "      display: none;\n",
              "      fill: #1967D2;\n",
              "      height: 32px;\n",
              "      padding: 0 0 0 0;\n",
              "      width: 32px;\n",
              "    }\n",
              "\n",
              "    .colab-df-convert:hover {\n",
              "      background-color: #E2EBFA;\n",
              "      box-shadow: 0px 1px 2px rgba(60, 64, 67, 0.3), 0px 1px 3px 1px rgba(60, 64, 67, 0.15);\n",
              "      fill: #174EA6;\n",
              "    }\n",
              "\n",
              "    [theme=dark] .colab-df-convert {\n",
              "      background-color: #3B4455;\n",
              "      fill: #D2E3FC;\n",
              "    }\n",
              "\n",
              "    [theme=dark] .colab-df-convert:hover {\n",
              "      background-color: #434B5C;\n",
              "      box-shadow: 0px 1px 3px 1px rgba(0, 0, 0, 0.15);\n",
              "      filter: drop-shadow(0px 1px 2px rgba(0, 0, 0, 0.3));\n",
              "      fill: #FFFFFF;\n",
              "    }\n",
              "  </style>\n",
              "\n",
              "      <script>\n",
              "        const buttonEl =\n",
              "          document.querySelector('#df-109a234b-256c-4b5b-bbff-660ab2d20777 button.colab-df-convert');\n",
              "        buttonEl.style.display =\n",
              "          google.colab.kernel.accessAllowed ? 'block' : 'none';\n",
              "\n",
              "        async function convertToInteractive(key) {\n",
              "          const element = document.querySelector('#df-109a234b-256c-4b5b-bbff-660ab2d20777');\n",
              "          const dataTable =\n",
              "            await google.colab.kernel.invokeFunction('convertToInteractive',\n",
              "                                                     [key], {});\n",
              "          if (!dataTable) return;\n",
              "\n",
              "          const docLinkHtml = 'Like what you see? Visit the ' +\n",
              "            '<a target=\"_blank\" href=https://colab.research.google.com/notebooks/data_table.ipynb>data table notebook</a>'\n",
              "            + ' to learn more about interactive tables.';\n",
              "          element.innerHTML = '';\n",
              "          dataTable['output_type'] = 'display_data';\n",
              "          await google.colab.output.renderOutput(dataTable, element);\n",
              "          const docLink = document.createElement('div');\n",
              "          docLink.innerHTML = docLinkHtml;\n",
              "          element.appendChild(docLink);\n",
              "        }\n",
              "      </script>\n",
              "    </div>\n",
              "  </div>\n",
              "  "
            ]
          },
          "metadata": {},
          "execution_count": 8
        }
      ]
    },
    {
      "cell_type": "code",
      "source": [
        "data.shape\n"
      ],
      "metadata": {
        "colab": {
          "base_uri": "https://localhost:8080/"
        },
        "id": "3nMmsJZO9-kz",
        "outputId": "9019dc45-b6a0-408d-a0d7-d8fcd18e20cb"
      },
      "execution_count": 9,
      "outputs": [
        {
          "output_type": "execute_result",
          "data": {
            "text/plain": [
              "(1781, 79)"
            ]
          },
          "metadata": {},
          "execution_count": 9
        }
      ]
    },
    {
      "cell_type": "code",
      "source": [
        "print(len(data))"
      ],
      "metadata": {
        "colab": {
          "base_uri": "https://localhost:8080/"
        },
        "id": "YA7QBbo5-J3S",
        "outputId": "0e2ccf87-4ce5-4d46-e0f4-0ba33cc0f4c9"
      },
      "execution_count": 10,
      "outputs": [
        {
          "output_type": "stream",
          "name": "stdout",
          "text": [
            "1781\n"
          ]
        }
      ]
    },
    {
      "cell_type": "code",
      "source": [
        "data['Investments'].plot(figsize=(16,6))"
      ],
      "metadata": {
        "colab": {
          "base_uri": "https://localhost:8080/",
          "height": 402
        },
        "id": "kHGNSgLE-O7X",
        "outputId": "1d2402de-8a3e-4beb-f7fb-2b7e2daae6db"
      },
      "execution_count": 11,
      "outputs": [
        {
          "output_type": "execute_result",
          "data": {
            "text/plain": [
              "<matplotlib.axes._subplots.AxesSubplot at 0x7ff250acccd0>"
            ]
          },
          "metadata": {},
          "execution_count": 11
        },
        {
          "output_type": "display_data",
          "data": {
            "text/plain": [
              "<Figure size 1152x432 with 1 Axes>"
            ],
            "image/png": "[encoded data removed]"
          },
          "metadata": {
            "needs_background": "light"
          }
        }
      ]
    },
    {
      "cell_type": "code",
      "source": [
        "data['Common Stocks'].plot(figsize=(16,6))"
      ],
      "metadata": {
        "colab": {
          "base_uri": "https://localhost:8080/",
          "height": 402
        },
        "outputId": "ef27d623-03ba-49c7-ea2f-638ce7ddf1a5",
        "id": "rOKpwaLI-3oF"
      },
      "execution_count": 14,
      "outputs": [
        {
          "output_type": "execute_result",
          "data": {
            "text/plain": [
              "<matplotlib.axes._subplots.AxesSubplot at 0x7ff250679610>"
            ]
          },
          "metadata": {},
          "execution_count": 14
        },
        {
          "output_type": "display_data",
          "data": {
            "text/plain": [
              "<Figure size 1152x432 with 1 Axes>"
            ],
            "image/png": "[encoded data removed]"
          },
          "metadata": {
            "needs_background": "light"
          }
        }
      ]
    },
    {
      "cell_type": "code",
      "source": [
        "data['Income Tax'].plot(figsize=(16,6))"
      ],
      "metadata": {
        "colab": {
          "base_uri": "https://localhost:8080/",
          "height": 402
        },
        "outputId": "817fa66c-31a7-45c2-cffd-b7aebfd266a6",
        "id": "P56CtHDh_LXT"
      },
      "execution_count": 15,
      "outputs": [
        {
          "output_type": "execute_result",
          "data": {
            "text/plain": [
              "<matplotlib.axes._subplots.AxesSubplot at 0x7ff250158490>"
            ]
          },
          "metadata": {},
          "execution_count": 15
        },
        {
          "output_type": "display_data",
          "data": {
            "text/plain": [
              "<Figure size 1152x432 with 1 Axes>"
            ],
            "image/png": "[encoded data removed]"
          },
          "metadata": {
            "needs_background": "light"
          }
        }
      ]
    },
    {
      "cell_type": "code",
      "source": [
        ""
      ],
      "metadata": {
        "id": "k6zCdn23_NY6"
      },
      "execution_count": null,
      "outputs": []
    },
    {
      "cell_type": "code",
      "source": [
        "data['Net Income'].plot(figsize=(16,6))"
      ],
      "metadata": {
        "colab": {
          "base_uri": "https://localhost:8080/",
          "height": 402
        },
        "outputId": "39a636b8-c1f7-4055-8235-07fb6ca3925b",
        "id": "Jssh1_RE_Ntd"
      },
      "execution_count": 16,
      "outputs": [
        {
          "output_type": "execute_result",
          "data": {
            "text/plain": [
              "<matplotlib.axes._subplots.AxesSubplot at 0x7ff250132490>"
            ]
          },
          "metadata": {},
          "execution_count": 16
        },
        {
          "output_type": "display_data",
          "data": {
            "text/plain": [
              "<Figure size 1152x432 with 1 Axes>"
            ],
            "image/png": "[encoded data removed]"
          },
          "metadata": {
            "needs_background": "light"
          }
        }
      ]
    },
    {
      "cell_type": "code",
      "source": [
        "data['Profit Margin'].plot(figsize=(16,6))"
      ],
      "metadata": {
        "colab": {
          "base_uri": "https://localhost:8080/",
          "height": 391
        },
        "outputId": "68593205-22c9-4b87-9869-29f3561f3863",
        "id": "txHqX0oH_Xai"
      },
      "execution_count": 17,
      "outputs": [
        {
          "output_type": "execute_result",
          "data": {
            "text/plain": [
              "<matplotlib.axes._subplots.AxesSubplot at 0x7ff250048090>"
            ]
          },
          "metadata": {},
          "execution_count": 17
        },
        {
          "output_type": "display_data",
          "data": {
            "text/plain": [
              "<Figure size 1152x432 with 1 Axes>"
            ],
            "image/png": "[encoded data removed]"
          },
          "metadata": {
            "needs_background": "light"
          }
        }
      ]
    },
    {
      "cell_type": "code",
      "source": [
        ""
      ],
      "metadata": {
        "id": "YqkhY3N5_Z9G"
      },
      "execution_count": null,
      "outputs": []
    },
    {
      "cell_type": "code",
      "source": [
        "data['Total Current Assets'].plot(figsize=(16,6))"
      ],
      "metadata": {
        "colab": {
          "base_uri": "https://localhost:8080/",
          "height": 402
        },
        "outputId": "6a3557e1-a0f0-4ea3-b85f-c0981440a4eb",
        "id": "BmnnOABi_aUh"
      },
      "execution_count": 19,
      "outputs": [
        {
          "output_type": "execute_result",
          "data": {
            "text/plain": [
              "<matplotlib.axes._subplots.AxesSubplot at 0x7ff24ffc68d0>"
            ]
          },
          "metadata": {},
          "execution_count": 19
        },
        {
          "output_type": "display_data",
          "data": {
            "text/plain": [
              "<Figure size 1152x432 with 1 Axes>"
            ],
            "image/png": "[encoded data removed]"
          },
          "metadata": {
            "needs_background": "light"
          }
        }
      ]
    },
    {
      "cell_type": "code",
      "source": [
        "x = data[['Investments','Common Stocks','Income Tax','Net Income','Profit Margin']]\n",
        "y = data['Total Current Assets']"
      ],
      "metadata": {
        "id": "EQ6NS4WY_c5A"
      },
      "execution_count": 20,
      "outputs": []
    },
    {
      "cell_type": "code",
      "source": [
        "from sklearn.model_selection import train_test_split\n",
        "x_train,x_test,y_train,y_test=train_test_split(x,y,random_state=0)"
      ],
      "metadata": {
        "id": "b3FEO8ptAIrN"
      },
      "execution_count": 21,
      "outputs": []
    },
    {
      "cell_type": "code",
      "source": [
        "x_train.shape"
      ],
      "metadata": {
        "colab": {
          "base_uri": "https://localhost:8080/"
        },
        "id": "qgv-xrdeAbUH",
        "outputId": "c5b98513-e802-4fef-a64d-ac9341d54fd0"
      },
      "execution_count": 22,
      "outputs": [
        {
          "output_type": "execute_result",
          "data": {
            "text/plain": [
              "(1335, 5)"
            ]
          },
          "metadata": {},
          "execution_count": 22
        }
      ]
    },
    {
      "cell_type": "code",
      "source": [
        "x_test.shape"
      ],
      "metadata": {
        "colab": {
          "base_uri": "https://localhost:8080/"
        },
        "id": "QNA9LHWTAdjo",
        "outputId": "8304ea1e-01db-49dd-e0d2-a506ebbe0ca8"
      },
      "execution_count": 23,
      "outputs": [
        {
          "output_type": "execute_result",
          "data": {
            "text/plain": [
              "(446, 5)"
            ]
          },
          "metadata": {},
          "execution_count": 23
        }
      ]
    },
    {
      "cell_type": "code",
      "source": [
        "from sklearn.linear_model import LinearRegression\n",
        "from sklearn.metrics import confusion_matrix, accuracy_score\n",
        "regressor = LinearRegression()"
      ],
      "metadata": {
        "id": "mCPmRTh3AftP"
      },
      "execution_count": 24,
      "outputs": []
    },
    {
      "cell_type": "code",
      "source": [
        "regressor.fit(x_train,y_train)"
      ],
      "metadata": {
        "colab": {
          "base_uri": "https://localhost:8080/"
        },
        "id": "G7KV8u19AzUJ",
        "outputId": "c9461d28-634e-40ed-dcdb-edae09cb1873"
      },
      "execution_count": 26,
      "outputs": [
        {
          "output_type": "execute_result",
          "data": {
            "text/plain": [
              "LinearRegression()"
            ]
          },
          "metadata": {},
          "execution_count": 26
        }
      ]
    },
    {
      "cell_type": "code",
      "source": [
        "print(regressor.coef_)"
      ],
      "metadata": {
        "colab": {
          "base_uri": "https://localhost:8080/"
        },
        "id": "bctRkgiSA4yn",
        "outputId": "bbec6826-be5f-4f15-c652-4152dd78d473"
      },
      "execution_count": 27,
      "outputs": [
        {
          "output_type": "stream",
          "name": "stdout",
          "text": [
            "[ 6.27115239e-01  3.71897923e-01 -1.10501926e+00  2.62764844e+00\n",
            "  2.35057783e+07]\n"
          ]
        }
      ]
    },
    {
      "cell_type": "code",
      "source": [
        "print(regressor.intercept_)"
      ],
      "metadata": {
        "colab": {
          "base_uri": "https://localhost:8080/"
        },
        "id": "Nq1SkocrBCpQ",
        "outputId": "83a32ac9-1119-471c-fd15-242a939a7c77"
      },
      "execution_count": 28,
      "outputs": [
        {
          "output_type": "stream",
          "name": "stdout",
          "text": [
            "2755015309.5137467\n"
          ]
        }
      ]
    },
    {
      "cell_type": "code",
      "source": [
        "predict=regressor.predict(x_test)"
      ],
      "metadata": {
        "id": "5hTxrYcOBG0i"
      },
      "execution_count": 31,
      "outputs": []
    },
    {
      "cell_type": "code",
      "source": [
        "print(predict)"
      ],
      "metadata": {
        "colab": {
          "base_uri": "https://localhost:8080/"
        },
        "id": "VGZdaRZiBPZH",
        "outputId": "dbb59096-0c62-4a66-a663-0bd004b5c497"
      },
      "execution_count": 32,
      "outputs": [
        {
          "output_type": "stream",
          "name": "stdout",
          "text": [
            "[ 4.72072322e+09  4.17655937e+09  4.35921973e+09  4.39449199e+09\n",
            "  4.05156907e+09  3.56879614e+09  4.25673008e+09 -4.35689988e+09\n",
            "  1.58635796e+10  4.55221883e+09  4.73267029e+09  5.61579447e+09\n",
            "  1.38772275e+10  2.81183709e+09  3.59064969e+09  5.43513077e+10\n",
            "  3.90204290e+09  4.86181952e+09  4.19589523e+09  1.92151061e+10\n",
            "  2.65346128e+09  7.50125192e+09  8.61699168e+09  3.85237601e+09\n",
            "  5.71803642e+09 -4.59997751e+10  4.67292073e+09  5.45988103e+09\n",
            "  8.57015468e+09  4.03385269e+10  2.77952973e+09  6.08339098e+09\n",
            "  2.50293054e+09  4.22311147e+09  4.41387392e+09 -7.49516928e+09\n",
            "  3.89286320e+09  3.97556992e+09  3.55365076e+09  1.25473889e+10\n",
            "  3.67786200e+10  4.00029291e+09  6.54935636e+09  2.07790868e+09\n",
            "  3.86598788e+09  5.08879138e+09  7.09860807e+09  4.10464532e+09\n",
            "  3.84005888e+09  5.30138100e+09  1.06233030e+10  3.50570826e+09\n",
            "  3.77751253e+09  4.46687173e+09  4.31789008e+09  3.84457454e+09\n",
            "  3.31729050e+09  3.60896579e+10  3.59537277e+09  3.79774472e+09\n",
            "  6.48126053e+09  3.90281683e+09  2.70710557e+09  4.20357821e+09\n",
            "  5.93462956e+09  7.97494721e+09 -8.37992147e+08  9.59979522e+09\n",
            "  6.19750430e+09  5.89280230e+09  2.55128094e+09  4.31072913e+10\n",
            "  4.60000035e+09  4.12194038e+09  3.37079057e+09  4.25962507e+09\n",
            "  4.32567684e+09  3.76649134e+09  3.79497765e+09  2.61811334e+09\n",
            "  4.60574246e+09  3.95773580e+09  5.34990131e+09  4.12356716e+09\n",
            "  5.08265320e+09  4.14130385e+09  3.50884377e+09  4.78123820e+09\n",
            "  5.18845383e+09  2.61387219e+09  1.21736036e+10  6.18537619e+09\n",
            "  4.91037922e+09 -5.58211586e+08  4.34975961e+09  4.77139093e+09\n",
            "  3.75047738e+09  5.51934668e+09  4.32857995e+09  1.28464899e+10\n",
            "  1.19509944e+10  4.02553264e+09  7.16963105e+09  5.10646978e+09\n",
            "  1.80142207e+09  4.08157616e+09  1.50154824e+10  1.18576343e+10\n",
            "  3.05666824e+09  4.34935776e+09  3.17758757e+09  5.70080100e+09\n",
            "  3.78824269e+09  4.27812607e+09  3.80276655e+09  1.88903748e+09\n",
            "  4.34809886e+09  3.24797861e+09  4.48344252e+09  2.02293372e+10\n",
            "  1.98153273e+09  7.31190658e+09  4.24003372e+09  4.05338560e+09\n",
            "  3.81247108e+09  4.21604519e+09  4.91105924e+09  1.45298511e+10\n",
            "  4.07721871e+09  3.79242457e+09  6.35925003e+09  7.40998144e+09\n",
            "  3.12323527e+09  8.78146099e+09  3.85378437e+09  3.78738704e+09\n",
            "  4.79115303e+09  4.92739775e+09  3.98701086e+09  5.39947028e+09\n",
            "  3.00722274e+10  4.78096675e+09  3.55836800e+10  2.95136140e+09\n",
            "  7.99231294e+09  2.85239550e+10  2.91871920e+09  5.04938557e+09\n",
            "  3.26843126e+09  7.05874831e+09  3.76410829e+09  4.19303381e+09\n",
            "  2.35594677e+09 -7.07442447e+09  6.66425392e+09 -4.99684721e+09\n",
            "  4.61990869e+09  1.22724873e+10  8.50171470e+09  7.69228599e+09\n",
            "  1.97262471e+10  1.59346806e+09  5.58481850e+09  4.74272431e+09\n",
            "  4.09304458e+09  3.66617316e+09  3.03929460e+10  4.53370107e+09\n",
            "  5.52367444e+09  3.51697591e+09  2.33597857e+09  3.90311413e+09\n",
            "  5.88050462e+09  1.20090858e+10  2.42751288e+09  4.06159764e+09\n",
            "  5.77268618e+09  3.71618235e+09  7.02024592e+09  4.80192220e+09\n",
            "  1.01584762e+11  1.73177446e+09  3.71182883e+10  3.27799660e+09\n",
            "  3.68886129e+09  9.53603694e+09  5.36573737e+09  3.53272723e+09\n",
            "  7.75928495e+09  5.35581233e+09  3.80662504e+09  4.41318770e+09\n",
            "  5.25313441e+09  6.59808746e+09  4.27364201e+09  7.92471825e+09\n",
            "  6.45955929e+09  4.51256162e+09  3.63164457e+09  8.90605523e+09\n",
            "  3.35439894e+09  4.67849613e+09  4.45062466e+09  9.46591852e+10\n",
            "  3.11342824e+10 -1.45727886e+09  3.73918673e+09  5.53386726e+09\n",
            "  8.23618880e+09  6.14667252e+09  3.50379747e+09  4.28449843e+09\n",
            "  5.42576980e+09  1.43889463e+10  2.33656388e+09  4.16978789e+09\n",
            "  5.00334261e+09  4.50315664e+09  1.71571003e+09  3.23347640e+09\n",
            "  8.81644549e+09  2.92760911e+09  2.87364928e+09  5.23910504e+09\n",
            "  5.53439269e+09  2.62818590e+09  4.07471236e+09  6.54645258e+09\n",
            "  8.31312384e+09  4.80565872e+09  3.65140440e+09  3.35360363e+09\n",
            "  8.24476238e+09  5.42240985e+09  2.97388953e+09  2.49529890e+09\n",
            "  7.77984557e+09  3.50664231e+09 -1.97442866e+09  3.96680027e+09\n",
            "  5.83409772e+09  8.04301170e+09  3.90109410e+09  3.49576683e+09\n",
            "  3.11222458e+09  4.60821877e+09  6.19567382e+09  4.19460602e+09\n",
            "  5.96614245e+09  1.65479363e+09  5.29243810e+09  4.50274632e+09\n",
            "  3.07794597e+09  4.08157616e+09  4.19530683e+09  3.97059397e+09\n",
            "  4.53374207e+09  1.60077592e+10  4.40358103e+09  4.71840798e+09\n",
            " -1.70181173e+09  3.83623508e+09  7.68617627e+09  4.34084000e+09\n",
            "  5.71146189e+09  3.94708425e+09  3.62626410e+09  5.17090270e+09\n",
            "  4.05337635e+09  5.42418192e+09  3.54958374e+10  3.91352559e+09\n",
            "  4.78903028e+09  5.35124938e+09  4.40802770e+09  3.67980234e+09\n",
            "  3.97086146e+09  9.47385118e+09  3.31798517e+09  3.49851493e+09\n",
            "  4.76247246e+09  5.05845548e+09  3.77730528e+09  3.73663010e+09\n",
            "  4.13313457e+09  3.65348208e+09  5.61714601e+09  3.55021511e+09\n",
            "  6.60778987e+09  5.78646167e+09 -5.08026770e+10  5.32132769e+09\n",
            "  6.02344929e+09  6.61582831e+09  7.39236495e+09  3.09165811e+09\n",
            "  1.19812418e+10  4.47327541e+09  4.90031907e+09  1.10773954e+10\n",
            "  3.81269993e+09  1.84513184e+09  1.11883804e+10  5.70477495e+09\n",
            "  1.40936509e+09  4.48158033e+09  3.92119105e+09  3.60229072e+09\n",
            "  2.10008903e+09  7.64221037e+09  3.67644372e+09  4.25906365e+09\n",
            "  5.20819520e+09  3.31075482e+09  1.11856006e+10  3.49793933e+09\n",
            "  4.17200962e+09  2.42472998e+09  9.55533370e+09  3.71077136e+09\n",
            "  5.82857692e+10  3.52222986e+09  4.17690842e+09  3.52075052e+09\n",
            "  1.61870105e+10  1.41523579e+10  1.30318643e+10 -3.74476328e+08\n",
            "  3.38012962e+09  1.15230296e+10  5.21151400e+09  3.02516678e+09\n",
            "  4.36069468e+09  3.35187182e+09  7.58625017e+09  3.85322666e+09\n",
            "  3.75391584e+09  1.51720720e+10  4.13801903e+10  3.49372324e+09\n",
            "  3.06426534e+09  3.39759006e+09  6.43343462e+09  5.26793389e+09\n",
            "  9.97273071e+09  1.80216119e+10  3.45583588e+09  4.79396916e+09\n",
            "  6.46794115e+09  6.77325195e+09  4.55171857e+09  1.40891411e+10\n",
            "  3.92541031e+09  6.68481984e+10  6.19154946e+09  3.94463787e+09\n",
            "  1.00802044e+10  9.31276297e+09  4.31650926e+09  3.71019600e+09\n",
            "  3.04156855e+09  3.54745854e+09  2.68346048e+09  8.00292422e+08\n",
            "  3.70271475e+09  3.88173449e+09 -3.95426165e+09  7.27456765e+09\n",
            "  3.36554347e+09  8.36044352e+09  2.69788405e+10  4.42752122e+09\n",
            "  4.06837714e+09  5.40109515e+09  3.50667351e+09  4.71134655e+09\n",
            "  5.26755621e+09  4.88029634e+09  2.56054136e+10  4.19900655e+09\n",
            "  6.42374810e+09  2.86639976e+09 -9.82266537e+09  3.65242048e+09\n",
            "  3.21867043e+09  3.73437465e+10  3.60734581e+09  6.42776052e+09\n",
            "  5.89512263e+09  3.74445163e+09  2.98942128e+09  3.74524322e+09\n",
            "  3.49748175e+09  5.98183233e+09  3.43601568e+09  3.82333124e+09\n",
            "  1.53214730e+10  3.78427767e+09  3.29412234e+09  4.38870191e+09\n",
            "  3.03374947e+09  3.72322241e+09  5.58174340e+09  7.51632079e+09\n",
            "  3.87667120e+09  3.98408037e+09  5.35048371e+09  3.57355596e+09\n",
            "  4.19003908e+09  2.28061877e+09  3.38766081e+09  1.89615804e+09\n",
            "  7.06999554e+09  6.07737923e+09  5.25608223e+09  3.93070594e+09\n",
            "  5.55810046e+09  5.98595885e+09  3.98106219e+09  4.41140151e+09\n",
            "  4.67016244e+09  2.08296605e+09  3.13181031e+09  4.31042412e+09\n",
            "  4.00853294e+09  4.53682684e+09  3.89806807e+09  5.97908954e+09\n",
            "  3.43179348e+09  6.91321627e+09  3.51791145e+09  1.69621108e+10\n",
            "  6.80824440e+09  4.70461606e+09  1.12585658e+10  3.43248773e+09\n",
            "  7.28591673e+09  6.12018428e+09  6.43568854e+09  3.38809360e+09\n",
            "  3.94364845e+09  3.53885627e+09  5.87857056e+09  7.55241595e+09\n",
            "  3.58462737e+09  2.66506303e+10]\n"
          ]
        }
      ]
    },
    {
      "cell_type": "code",
      "source": [
        "predict.shape"
      ],
      "metadata": {
        "colab": {
          "base_uri": "https://localhost:8080/"
        },
        "id": "HcwHpmo4BTYQ",
        "outputId": "7c5134b8-312c-4f5f-ba01-a22e3010a2f0"
      },
      "execution_count": 33,
      "outputs": [
        {
          "output_type": "execute_result",
          "data": {
            "text/plain": [
              "(446,)"
            ]
          },
          "metadata": {},
          "execution_count": 33
        }
      ]
    },
    {
      "cell_type": "code",
      "source": [
        "dframe=pd.DataFrame(y_test,predict)"
      ],
      "metadata": {
        "id": "Zs-Iwh2fBbaW"
      },
      "execution_count": 35,
      "outputs": []
    },
    {
      "cell_type": "code",
      "source": [
        "dfr=pd.DataFrame({'Actual':y_test,'Predicted':predict})"
      ],
      "metadata": {
        "id": "GYuPgpl0Br61"
      },
      "execution_count": 38,
      "outputs": []
    },
    {
      "cell_type": "code",
      "source": [
        "print(dfr)"
      ],
      "metadata": {
        "colab": {
          "base_uri": "https://localhost:8080/"
        },
        "id": "U3oOU_GBCDT-",
        "outputId": "3a491a19-cbf9-4f9d-bbee-3a23a861a91c"
      },
      "execution_count": 39,
      "outputs": [
        {
          "output_type": "stream",
          "name": "stdout",
          "text": [
            "            Actual     Predicted\n",
            "1337  1.509210e+09  4.720723e+09\n",
            "1411  1.539100e+09  4.176559e+09\n",
            "1182  6.441888e+09  4.359220e+09\n",
            "962   4.232000e+09  4.394492e+09\n",
            "1739  0.000000e+00  4.051569e+09\n",
            "...            ...           ...\n",
            "372   8.414280e+08  3.538856e+09\n",
            "1389  1.378000e+09  5.878571e+09\n",
            "1529  6.772560e+09  7.552416e+09\n",
            "211   2.047100e+09  3.584627e+09\n",
            "1620  2.670600e+10  2.665063e+10\n",
            "\n",
            "[446 rows x 2 columns]\n"
          ]
        }
      ]
    },
    {
      "cell_type": "code",
      "source": [
        "predict.shape"
      ],
      "metadata": {
        "colab": {
          "base_uri": "https://localhost:8080/"
        },
        "id": "fDJ3t65FCFQf",
        "outputId": "8192f102-ce0f-4162-a09d-6d97baa0242f"
      },
      "execution_count": 40,
      "outputs": [
        {
          "output_type": "execute_result",
          "data": {
            "text/plain": [
              "(446,)"
            ]
          },
          "metadata": {},
          "execution_count": 40
        }
      ]
    },
    {
      "cell_type": "code",
      "source": [
        "dfr.head(5)"
      ],
      "metadata": {
        "colab": {
          "base_uri": "https://localhost:8080/",
          "height": 206
        },
        "id": "WXNqlz9ZCjEz",
        "outputId": "59bcbbb8-5fa3-46d1-88c8-f1e40b78bfb3"
      },
      "execution_count": 41,
      "outputs": [
        {
          "output_type": "execute_result",
          "data": {
            "text/plain": [
              "            Actual     Predicted\n",
              "1337  1.509210e+09  4.720723e+09\n",
              "1411  1.539100e+09  4.176559e+09\n",
              "1182  6.441888e+09  4.359220e+09\n",
              "962   4.232000e+09  4.394492e+09\n",
              "1739  0.000000e+00  4.051569e+09"
            ],
            "text/html": [
              "\n",
              "  <div id=\"df-94420c4a-c87f-4b82-8421-ca42e1194a07\">\n",
              "    <div class=\"colab-df-container\">\n",
              "      <div>\n",
              "<style scoped>\n",
              "    .dataframe tbody tr th:only-of-type {\n",
              "        vertical-align: middle;\n",
              "    }\n",
              "\n",
              "    .dataframe tbody tr th {\n",
              "        vertical-align: top;\n",
              "    }\n",
              "\n",
              "    .dataframe thead th {\n",
              "        text-align: right;\n",
              "    }\n",
              "</style>\n",
              "<table border=\"1\" class=\"dataframe\">\n",
              "  <thead>\n",
              "    <tr style=\"text-align: right;\">\n",
              "      <th></th>\n",
              "      <th>Actual</th>\n",
              "      <th>Predicted</th>\n",
              "    </tr>\n",
              "  </thead>\n",
              "  <tbody>\n",
              "    <tr>\n",
              "      <th>1337</th>\n",
              "      <td>1.509210e+09</td>\n",
              "      <td>4.720723e+09</td>\n",
              "    </tr>\n",
              "    <tr>\n",
              "      <th>1411</th>\n",
              "      <td>1.539100e+09</td>\n",
              "      <td>4.176559e+09</td>\n",
              "    </tr>\n",
              "    <tr>\n",
              "      <th>1182</th>\n",
              "      <td>6.441888e+09</td>\n",
              "      <td>4.359220e+09</td>\n",
              "    </tr>\n",
              "    <tr>\n",
              "      <th>962</th>\n",
              "      <td>4.232000e+09</td>\n",
              "      <td>4.394492e+09</td>\n",
              "    </tr>\n",
              "    <tr>\n",
              "      <th>1739</th>\n",
              "      <td>0.000000e+00</td>\n",
              "      <td>4.051569e+09</td>\n",
              "    </tr>\n",
              "  </tbody>\n",
              "</table>\n",
              "</div>\n",
              "      <button class=\"colab-df-convert\" onclick=\"convertToInteractive('df-94420c4a-c87f-4b82-8421-ca42e1194a07')\"\n",
              "              title=\"Convert this dataframe to an interactive table.\"\n",
              "              style=\"display:none;\">\n",
              "        \n",
              "  <svg xmlns=\"http://www.w3.org/2000/svg\" height=\"24px\"viewBox=\"0 0 24 24\"\n",
              "       width=\"24px\">\n",
              "    <path d=\"M0 0h24v24H0V0z\" fill=\"none\"/>\n",
              "    <path d=\"M18.56 5.44l.94 2.06.94-2.06 2.06-.94-2.06-.94-.94-2.06-.94 2.06-2.06.94zm-11 1L8.5 8.5l.94-2.06 2.06-.94-2.06-.94L8.5 2.5l-.94 2.06-2.06.94zm10 10l.94 2.06.94-2.06 2.06-.94-2.06-.94-.94-2.06-.94 2.06-2.06.94z\"/><path d=\"M17.41 7.96l-1.37-1.37c-.4-.4-.92-.59-1.43-.59-.52 0-1.04.2-1.43.59L10.3 9.45l-7.72 7.72c-.78.78-.78 2.05 0 2.83L4 21.41c.39.39.9.59 1.41.59.51 0 1.02-.2 1.41-.59l7.78-7.78 2.81-2.81c.8-.78.8-2.07 0-2.86zM5.41 20L4 18.59l7.72-7.72 1.47 1.35L5.41 20z\"/>\n",
              "  </svg>\n",
              "      </button>\n",
              "      \n",
              "  <style>\n",
              "    .colab-df-container {\n",
              "      display:flex;\n",
              "      flex-wrap:wrap;\n",
              "      gap: 12px;\n",
              "    }\n",
              "\n",
              "    .colab-df-convert {\n",
              "      background-color: #E8F0FE;\n",
              "      border: none;\n",
              "      border-radius: 50%;\n",
              "      cursor: pointer;\n",
              "      display: none;\n",
              "      fill: #1967D2;\n",
              "      height: 32px;\n",
              "      padding: 0 0 0 0;\n",
              "      width: 32px;\n",
              "    }\n",
              "\n",
              "    .colab-df-convert:hover {\n",
              "      background-color: #E2EBFA;\n",
              "      box-shadow: 0px 1px 2px rgba(60, 64, 67, 0.3), 0px 1px 3px 1px rgba(60, 64, 67, 0.15);\n",
              "      fill: #174EA6;\n",
              "    }\n",
              "\n",
              "    [theme=dark] .colab-df-convert {\n",
              "      background-color: #3B4455;\n",
              "      fill: #D2E3FC;\n",
              "    }\n",
              "\n",
              "    [theme=dark] .colab-df-convert:hover {\n",
              "      background-color: #434B5C;\n",
              "      box-shadow: 0px 1px 3px 1px rgba(0, 0, 0, 0.15);\n",
              "      filter: drop-shadow(0px 1px 2px rgba(0, 0, 0, 0.3));\n",
              "      fill: #FFFFFF;\n",
              "    }\n",
              "  </style>\n",
              "\n",
              "      <script>\n",
              "        const buttonEl =\n",
              "          document.querySelector('#df-94420c4a-c87f-4b82-8421-ca42e1194a07 button.colab-df-convert');\n",
              "        buttonEl.style.display =\n",
              "          google.colab.kernel.accessAllowed ? 'block' : 'none';\n",
              "\n",
              "        async function convertToInteractive(key) {\n",
              "          const element = document.querySelector('#df-94420c4a-c87f-4b82-8421-ca42e1194a07');\n",
              "          const dataTable =\n",
              "            await google.colab.kernel.invokeFunction('convertToInteractive',\n",
              "                                                     [key], {});\n",
              "          if (!dataTable) return;\n",
              "\n",
              "          const docLinkHtml = 'Like what you see? Visit the ' +\n",
              "            '<a target=\"_blank\" href=https://colab.research.google.com/notebooks/data_table.ipynb>data table notebook</a>'\n",
              "            + ' to learn more about interactive tables.';\n",
              "          element.innerHTML = '';\n",
              "          dataTable['output_type'] = 'display_data';\n",
              "          await google.colab.output.renderOutput(dataTable, element);\n",
              "          const docLink = document.createElement('div');\n",
              "          docLink.innerHTML = docLinkHtml;\n",
              "          element.appendChild(docLink);\n",
              "        }\n",
              "      </script>\n",
              "    </div>\n",
              "  </div>\n",
              "  "
            ]
          },
          "metadata": {},
          "execution_count": 41
        }
      ]
    },
    {
      "cell_type": "code",
      "source": [
        "from sklearn.metrics import confusion_matrix, accuracy_score"
      ],
      "metadata": {
        "id": "PiU2CxZlCm4x"
      },
      "execution_count": 42,
      "outputs": []
    },
    {
      "cell_type": "code",
      "source": [
        "regressor.score(x_test,y_test)"
      ],
      "metadata": {
        "colab": {
          "base_uri": "https://localhost:8080/"
        },
        "id": "v_QUKvP8Ctij",
        "outputId": "49b3ac13-3814-4a68-f291-178c54e75482"
      },
      "execution_count": 43,
      "outputs": [
        {
          "output_type": "execute_result",
          "data": {
            "text/plain": [
              "0.17365908737885238"
            ]
          },
          "metadata": {},
          "execution_count": 43
        }
      ]
    },
    {
      "cell_type": "code",
      "source": [
        "import math"
      ],
      "metadata": {
        "id": "gSaKVJVlCxpL"
      },
      "execution_count": 44,
      "outputs": []
    },
    {
      "cell_type": "code",
      "source": [
        "print('Mean Absolute Error : ',metrics.mean_absolute_error(y_test,predict))"
      ],
      "metadata": {
        "colab": {
          "base_uri": "https://localhost:8080/"
        },
        "id": "ZSJbimWMCzgt",
        "outputId": "d09130b7-688b-483d-abee-9e19b1fbfb89"
      },
      "execution_count": 45,
      "outputs": [
        {
          "output_type": "stream",
          "name": "stdout",
          "text": [
            "Mean Absolute Error :  5360580948.870374\n"
          ]
        }
      ]
    },
    {
      "cell_type": "code",
      "source": [
        "print('Mean Square Error : ',metrics.mean_squared_error(y_test,predict))"
      ],
      "metadata": {
        "colab": {
          "base_uri": "https://localhost:8080/"
        },
        "id": "Gx4-yJcDDGpe",
        "outputId": "78b73f70-ff1e-42ef-d5a7-ed58900af731"
      },
      "execution_count": 47,
      "outputs": [
        {
          "output_type": "stream",
          "name": "stdout",
          "text": [
            "Mean Square Error :  1.3300054641554429e+20\n"
          ]
        }
      ]
    },
    {
      "cell_type": "code",
      "source": [
        "print('Root Mean Square Error : ',math.sqrt(metrics.mean_squared_error(y_test,predict)))"
      ],
      "metadata": {
        "colab": {
          "base_uri": "https://localhost:8080/"
        },
        "id": "GIc43Fv_DOiG",
        "outputId": "93eeced8-2619-4fb4-e4e5-68f0c7789474"
      },
      "execution_count": 48,
      "outputs": [
        {
          "output_type": "stream",
          "name": "stdout",
          "text": [
            "Root Mean Square Error :  11532586284.764761\n"
          ]
        }
      ]
    },
    {
      "cell_type": "code",
      "source": [
        "graph=dfr.head(5)"
      ],
      "metadata": {
        "id": "0au5DRGuDhYv"
      },
      "execution_count": 49,
      "outputs": []
    },
    {
      "cell_type": "code",
      "source": [
        "graph.plot(kind='bar')"
      ],
      "metadata": {
        "colab": {
          "base_uri": "https://localhost:8080/",
          "height": 309
        },
        "id": "88P2xumzDllu",
        "outputId": "29b21a16-dc58-4677-c2f0-86b40f946f1d"
      },
      "execution_count": 50,
      "outputs": [
        {
          "output_type": "execute_result",
          "data": {
            "text/plain": [
              "<matplotlib.axes._subplots.AxesSubplot at 0x7ff24de18390>"
            ]
          },
          "metadata": {},
          "execution_count": 50
        },
        {
          "output_type": "display_data",
          "data": {
            "text/plain": [
              "<Figure size 432x288 with 1 Axes>"
            ],
            "image/png": "[encoded data removed]"
          },
          "metadata": {
            "needs_background": "light"
          }
        }
      ]
    },
    {
      "cell_type": "markdown",
      "source": [
        ""
      ],
      "metadata": {
        "id": "OvUoB_ZcErgz"
      }
    },
    {
      "cell_type": "code",
      "source": [
        "#Thus, we assume that linear relationship is present but in real-time , it may not necessarily be present. \n",
        "#Stock Prices can never be predicted because it is influenve by a lot of factors."
      ],
      "metadata": {
        "id": "DBMrj3J8EsCk"
      },
      "execution_count": null,
      "outputs": []
    },
    {
      "cell_type": "code",
      "source": [
        ""
      ],
      "metadata": {
        "id": "A1uKyvEeEmkr"
      },
      "execution_count": null,
      "outputs": []
    }
  ]
}