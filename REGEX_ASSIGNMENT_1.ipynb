{
  "nbformat": 4,
  "nbformat_minor": 0,
  "metadata": {
    "colab": {
      "name": "REGEX ASSIGNMENT 1.ipynb",
      "provenance": [],
      "collapsed_sections": []
    },
    "kernelspec": {
      "name": "python3",
      "display_name": "Python 3"
    },
    "language_info": {
      "name": "python"
    }
  },
  "cells": [
    {
      "cell_type": "code",
      "execution_count": 38,
      "metadata": {
        "colab": {
          "base_uri": "https://localhost:8080/"
        },
        "id": "OsgRAWLYwyNF",
        "outputId": "80e1a056-5354-43b0-a283-8724049f58b4"
      },
      "outputs": [
        {
          "output_type": "stream",
          "name": "stdout",
          "text": [
            "5 5 5 5 5 \r\n",
            "5 5 5 5 \r\n",
            "5 5 5 \r\n",
            "5 5 \r\n",
            "5 \r\n"
          ]
        }
      ],
      "source": [
        "#Pattern - 1 \n",
        "\n",
        "r = 5\n",
        "n = r\n",
        "for i in range(r, 0, -1):\n",
        "    for j in range(0, i):\n",
        "        print(n, end=' ')\n",
        "    print(\"\\r\")"
      ]
    },
    {
      "cell_type": "code",
      "source": [
        "#Pattern - 2\n",
        "\n",
        "r = 5\n",
        "for i in range(r, 0, -1):\n",
        "    for j in range(0, i + 1):\n",
        "        print(j, end=' ')\n",
        "    print(\"\\r\")"
      ],
      "metadata": {
        "colab": {
          "base_uri": "https://localhost:8080/"
        },
        "id": "wnLwtcatxFbz",
        "outputId": "fb823fee-395c-4be9-aa08-7dbffe24dd59"
      },
      "execution_count": 39,
      "outputs": [
        {
          "output_type": "stream",
          "name": "stdout",
          "text": [
            "0 1 2 3 4 5 \r\n",
            "0 1 2 3 4 \r\n",
            "0 1 2 3 \r\n",
            "0 1 2 \r\n",
            "0 1 \r\n"
          ]
        }
      ]
    },
    {
      "cell_type": "code",
      "source": [
        "#Pattern - 3\n",
        "\n",
        "r = 5\n",
        "i = 1\n",
        "while i <= r:\n",
        "    j = 1\n",
        "    while j <= i:\n",
        "        print((i * 2 - 1), end=\" \")\n",
        "        j = j + 1\n",
        "    i = i + 1\n",
        "    print('')"
      ],
      "metadata": {
        "colab": {
          "base_uri": "https://localhost:8080/"
        },
        "id": "NWQMSaH9xNRS",
        "outputId": "41ddad11-d191-40fa-acd0-18778b57de58"
      },
      "execution_count": 40,
      "outputs": [
        {
          "output_type": "stream",
          "name": "stdout",
          "text": [
            "1 \n",
            "3 3 \n",
            "5 5 5 \n",
            "7 7 7 7 \n",
            "9 9 9 9 9 \n"
          ]
        }
      ]
    },
    {
      "cell_type": "code",
      "source": [
        "#Pattern - 4\n",
        "\n",
        "r = 6\n",
        "for i in range(1, r):\n",
        "    for j in range(i, 0, -1):\n",
        "        print(j, end=' ')\n",
        "    print(\"\")"
      ],
      "metadata": {
        "colab": {
          "base_uri": "https://localhost:8080/"
        },
        "id": "0f3b77Q6xTg0",
        "outputId": "2a85326c-edab-4780-d3cd-5e4693ef30d9"
      },
      "execution_count": 41,
      "outputs": [
        {
          "output_type": "stream",
          "name": "stdout",
          "text": [
            "1 \n",
            "2 1 \n",
            "3 2 1 \n",
            "4 3 2 1 \n",
            "5 4 3 2 1 \n"
          ]
        }
      ]
    },
    {
      "cell_type": "code",
      "source": [
        "#Pattern - 5\n",
        "\n",
        "a = 1\n",
        "b = 2\n",
        "number = b\n",
        "for r in range(2, 6):\n",
        "    for c in range(a, b):\n",
        "        number -= 1\n",
        "        print(number, end=' ')\n",
        "    print(\"\")\n",
        "    a = b\n",
        "    b += r\n",
        "    number = b"
      ],
      "metadata": {
        "colab": {
          "base_uri": "https://localhost:8080/"
        },
        "id": "fBMosaeUxdLa",
        "outputId": "b5284a6d-b789-44d7-ed39-a62b41fe1d79"
      },
      "execution_count": 42,
      "outputs": [
        {
          "output_type": "stream",
          "name": "stdout",
          "text": [
            "1 \n",
            "3 2 \n",
            "6 5 4 \n",
            "10 9 8 7 \n"
          ]
        }
      ]
    },
    {
      "cell_type": "code",
      "source": [
        "#Pattern - 6\n",
        "\n",
        "def pattern(s):\n",
        "    for i in range(0, s):\n",
        "        for j in range(0, i + 1):\n",
        "            print(number(i, j), end=\" \")\n",
        "        print()\n",
        "\n",
        "\n",
        "def number(n, k):\n",
        "    num = 1\n",
        "    if k > n - k:\n",
        "        k = n - k\n",
        "    for i in range(0, k):\n",
        "        num = num * (n - i)\n",
        "        num = num // (i + 1)\n",
        "    return num\n",
        "r = 7\n",
        "pattern(r)"
      ],
      "metadata": {
        "colab": {
          "base_uri": "https://localhost:8080/"
        },
        "id": "V3ZWAAdkx9MF",
        "outputId": "05ab58bc-dc5f-4d78-b177-d17d38d6f506"
      },
      "execution_count": 43,
      "outputs": [
        {
          "output_type": "stream",
          "name": "stdout",
          "text": [
            "1 \n",
            "1 1 \n",
            "1 2 1 \n",
            "1 3 3 1 \n",
            "1 4 6 4 1 \n",
            "1 5 10 10 5 1 \n",
            "1 6 15 20 15 6 1 \n"
          ]
        }
      ]
    },
    {
      "cell_type": "code",
      "source": [
        "#Pattern - 7\n",
        "\n",
        "r = 5\n",
        "for i in range(1, r + 1):\n",
        "    for j in range(1, r + 1):\n",
        "        if j <= i:\n",
        "            print(i, end=' ')\n",
        "        else:\n",
        "            print(j, end=' ')\n",
        "    print()"
      ],
      "metadata": {
        "colab": {
          "base_uri": "https://localhost:8080/"
        },
        "id": "2a4lgr3DyGjN",
        "outputId": "5104be35-066f-409b-a7d5-753d0bc1a5c7"
      },
      "execution_count": 44,
      "outputs": [
        {
          "output_type": "stream",
          "name": "stdout",
          "text": [
            "1 2 3 4 5 \n",
            "2 2 3 4 5 \n",
            "3 3 3 4 5 \n",
            "4 4 4 4 5 \n",
            "5 5 5 5 5 \n"
          ]
        }
      ]
    },
    {
      "cell_type": "code",
      "source": [
        "#Pattern - 8\n",
        "\n",
        "r = 8\n",
        "for i in range(1, r + 1):\n",
        "    for j in range(1, i + 1):\n",
        "        s = i * j\n",
        "        print(i * j, end='  ')\n",
        "    print()"
      ],
      "metadata": {
        "colab": {
          "base_uri": "https://localhost:8080/"
        },
        "id": "aJC8yfb9yMQI",
        "outputId": "65d60930-5d51-4a91-f131-14818a6ce403"
      },
      "execution_count": 45,
      "outputs": [
        {
          "output_type": "stream",
          "name": "stdout",
          "text": [
            "1  \n",
            "2  4  \n",
            "3  6  9  \n",
            "4  8  12  16  \n",
            "5  10  15  20  25  \n",
            "6  12  18  24  30  36  \n",
            "7  14  21  28  35  42  49  \n",
            "8  16  24  32  40  48  56  64  \n"
          ]
        }
      ]
    },
    {
      "cell_type": "code",
      "source": [
        "#Pattern - 9\n",
        "\n",
        "r = 5\n",
        "k = 2 * r - 2\n",
        "for i in range(r, -1, -1):\n",
        "    for j in range(k, 0, -1):\n",
        "        print(end=\" \")\n",
        "    k = k + 1\n",
        "    for j in range(0, i + 1):\n",
        "        print(\"*\", end=\" \")\n",
        "    print(\"\")"
      ],
      "metadata": {
        "colab": {
          "base_uri": "https://localhost:8080/"
        },
        "id": "_9p-O6_iyR_L",
        "outputId": "295398b7-d996-49ba-9a3d-7a9997e995aa"
      },
      "execution_count": 46,
      "outputs": [
        {
          "output_type": "stream",
          "name": "stdout",
          "text": [
            "        * * * * * * \n",
            "         * * * * * \n",
            "          * * * * \n",
            "           * * * \n",
            "            * * \n",
            "             * \n"
          ]
        }
      ]
    },
    {
      "cell_type": "code",
      "source": [
        "#Pattern - 10\n",
        "\n",
        "s = 7\n",
        "m = (2 * s) - 2\n",
        "for i in range(0, s):\n",
        "    for j in range(0, m):\n",
        "        print(end=\" \")\n",
        "    m = m - 1\n",
        "    for j in range(0, i + 1):\n",
        "        print(\"* \", end=' ')\n",
        "    print(\" \")"
      ],
      "metadata": {
        "colab": {
          "base_uri": "https://localhost:8080/"
        },
        "id": "CAgIw_SZyZRp",
        "outputId": "0b0f6259-5d17-4011-cd4c-0f85f7dc6462"
      },
      "execution_count": 47,
      "outputs": [
        {
          "output_type": "stream",
          "name": "stdout",
          "text": [
            "            *   \n",
            "           *  *   \n",
            "          *  *  *   \n",
            "         *  *  *  *   \n",
            "        *  *  *  *  *   \n",
            "       *  *  *  *  *  *   \n",
            "      *  *  *  *  *  *  *   \n"
          ]
        }
      ]
    },
    {
      "cell_type": "code",
      "source": [
        "#Pattern - 11\n",
        "\n",
        "r = 6\n",
        "for i in range(0, r):\n",
        "    for j in range(0, i + 1):\n",
        "        print(\"*\", end=' ')\n",
        "    print(\" \")\n",
        "\n",
        "print(\" \")\n",
        "\n",
        "for i in range(r + 1, 0, -1):\n",
        "    for j in range(0, i - 1):\n",
        "        print(\"*\", end=' ')\n",
        "    print(\" \")"
      ],
      "metadata": {
        "colab": {
          "base_uri": "https://localhost:8080/"
        },
        "id": "25Hr-creyest",
        "outputId": "76460d93-44d8-4bf4-9a7b-ed8d27afb81e"
      },
      "execution_count": 48,
      "outputs": [
        {
          "output_type": "stream",
          "name": "stdout",
          "text": [
            "*  \n",
            "* *  \n",
            "* * *  \n",
            "* * * *  \n",
            "* * * * *  \n",
            "* * * * * *  \n",
            " \n",
            "* * * * * *  \n",
            "* * * * *  \n",
            "* * * *  \n",
            "* * *  \n",
            "* *  \n",
            "*  \n",
            " \n"
          ]
        }
      ]
    },
    {
      "cell_type": "code",
      "source": [
        "#Pattern - 12\n",
        "\n",
        "r = 5\n",
        "for i in range(0, r):\n",
        "    for j in range(0, i + 1):\n",
        "        print(\"*\", end=' ')\n",
        "    print(\"\\r\")\n",
        "\n",
        "for i in range(r, 0, -1):\n",
        "    for j in range(0, i - 1):\n",
        "        print(\"*\", end=' ')\n",
        "    print(\"\\r\")"
      ],
      "metadata": {
        "colab": {
          "base_uri": "https://localhost:8080/"
        },
        "id": "Hk1hXEcLyklb",
        "outputId": "9fc49499-1943-44a1-f2f4-04aa55b31a50"
      },
      "execution_count": 49,
      "outputs": [
        {
          "output_type": "stream",
          "name": "stdout",
          "text": [
            "* \r\n",
            "* * \r\n",
            "* * * \r\n",
            "* * * * \r\n",
            "* * * * * \r\n",
            "* * * * \r\n",
            "* * * \r\n",
            "* * \r\n",
            "* \r\n",
            "\r\n"
          ]
        }
      ]
    },
    {
      "cell_type": "code",
      "source": [
        "#Pattern - 13\n",
        "\n",
        "r = 5\n",
        "i = 1\n",
        "while i <= r:\n",
        "    j = i\n",
        "    while j < r:\n",
        "        print(' ', end=' ')\n",
        "        j += 1\n",
        "    k = 1\n",
        "    while k <= i:\n",
        "        print('*', end=' ')\n",
        "        k += 1\n",
        "    print()\n",
        "    i += 1\n",
        "\n",
        "i = r\n",
        "while i >= 1:\n",
        "    j = i\n",
        "    while j <= r:\n",
        "        print(' ', end=' ')\n",
        "        j += 1\n",
        "    k = 1\n",
        "    while k < i:\n",
        "        print('*', end=' ')\n",
        "        k += 1\n",
        "    print('')\n",
        "    i -= 1"
      ],
      "metadata": {
        "colab": {
          "base_uri": "https://localhost:8080/"
        },
        "id": "bsyn4l4Lyqzi",
        "outputId": "f8a5d5c5-4208-43e8-a348-b3454ffd51f5"
      },
      "execution_count": 50,
      "outputs": [
        {
          "output_type": "stream",
          "name": "stdout",
          "text": [
            "        * \n",
            "      * * \n",
            "    * * * \n",
            "  * * * * \n",
            "* * * * * \n",
            "  * * * * \n",
            "    * * * \n",
            "      * * \n",
            "        * \n",
            "          \n"
          ]
        }
      ]
    },
    {
      "cell_type": "code",
      "source": [
        "#Pattern - 14\n",
        "\n",
        "r = 5\n",
        "i = 0\n",
        "while i <= r - 1:\n",
        "    j = 0\n",
        "    while j < i:\n",
        "        print('', end=' ')\n",
        "        j += 1\n",
        "    k = i\n",
        "    while k <= r - 1:\n",
        "        print('*', end=' ')\n",
        "        k += 1\n",
        "    print()\n",
        "    i += 1\n",
        "\n",
        "i = r - 1\n",
        "while i >= 0:\n",
        "    j = 0\n",
        "    while j < i:\n",
        "        print('', end=' ')\n",
        "        j += 1\n",
        "    k = i\n",
        "    while k <= r - 1:\n",
        "        print('*', end=' ')\n",
        "        k += 1\n",
        "    print('')\n",
        "    i -= 1"
      ],
      "metadata": {
        "colab": {
          "base_uri": "https://localhost:8080/"
        },
        "id": "iwteplYnyyml",
        "outputId": "8d2389e7-9566-40a4-ff23-23b8c7f804e8"
      },
      "execution_count": 51,
      "outputs": [
        {
          "output_type": "stream",
          "name": "stdout",
          "text": [
            "* * * * * \n",
            " * * * * \n",
            "  * * * \n",
            "   * * \n",
            "    * \n",
            "    * \n",
            "   * * \n",
            "  * * * \n",
            " * * * * \n",
            "* * * * * \n"
          ]
        }
      ]
    },
    {
      "cell_type": "code",
      "source": [
        "#Pattern - 15\n",
        "\n",
        "r = 14\n",
        "print(\"*\" * r, end=\"\\n\")\n",
        "i = (r // 2) - 1\n",
        "j = 2\n",
        "while i != 0:\n",
        "    while j <= (r - 2):\n",
        "        print(\"*\" * i, end=\"\")\n",
        "        print(\"_\" * j, end=\"\")\n",
        "        print(\"*\" * i, end=\"\\n\")\n",
        "        i = i - 1\n",
        "        j = j + 2\n"
      ],
      "metadata": {
        "colab": {
          "base_uri": "https://localhost:8080/"
        },
        "id": "i1zj2ybKy6Bv",
        "outputId": "f155e9c5-9317-461d-eb24-a57909419e9c"
      },
      "execution_count": 52,
      "outputs": [
        {
          "output_type": "stream",
          "name": "stdout",
          "text": [
            "**************\n",
            "******__******\n",
            "*****____*****\n",
            "****______****\n",
            "***________***\n",
            "**__________**\n",
            "*____________*\n"
          ]
        }
      ]
    },
    {
      "cell_type": "code",
      "source": [
        ""
      ],
      "metadata": {
        "id": "DmDZWjcwy-rm"
      },
      "execution_count": null,
      "outputs": []
    }
  ]
}